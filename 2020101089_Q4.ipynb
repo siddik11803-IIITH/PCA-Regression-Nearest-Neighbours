{
 "cells": [
  {
   "cell_type": "markdown",
   "id": "improving-pepper",
   "metadata": {},
   "source": [
    "# Assignment 2 - Question 4\n",
    "The objective of this assignment is to get you familiarize with  the  problem  of  `Linear Regression`.\n",
    "\n",
    "## Instructions\n",
    "- Write your code and analysis in the indicated cells.\n",
    "- Ensure that this notebook runs without errors when the cells are run in sequence.\n",
    "- Do not attempt to change the contents of other cells.\n",
    "- No inbuilt functions to be used until specified\n",
    "\n",
    "## Submission\n",
    "- Ensure that this notebook runs without errors when the cells are run in sequence.\n",
    "- Rename the notebook to `<roll_number>_Q4.ipynb`.\n",
    "- Fill the Name and Roll number in the below markdown"
   ]
  },
  {
   "cell_type": "markdown",
   "id": "6f6269f1",
   "metadata": {},
   "source": [
    "Name: Siddik Ayyappa <br>\n",
    "Roll Number: 2020101089"
   ]
  },
  {
   "cell_type": "markdown",
   "id": "final-transaction",
   "metadata": {},
   "source": [
    "## Background about the dataset\n",
    "\n",
    "TLDR: You have 4 independent variables (`float`) for each molecule. You can use a linear combination of these 4 independent variables to predict the bandgap (dependent variable) of each molecule.\n",
    "\n",
    "You can read more about the problem in [Li et al, Bandgap tuning strategy by cations and halide ions of lead halide perovskites learned from machine learning, RSC Adv., 2021,11, 15688-15694](https://doi.org/10.1039/D1RA03117A)."
   ]
  },
  {
   "cell_type": "code",
   "execution_count": 10,
   "id": "lyric-olympus",
   "metadata": {},
   "outputs": [],
   "source": [
    "import csv\n",
    "import random\n",
    "import numpy as np\n",
    "import pandas as pd # for visualisation\n",
    "import timeit"
   ]
  },
  {
   "cell_type": "code",
   "execution_count": 11,
   "id": "hundred-receipt",
   "metadata": {},
   "outputs": [],
   "source": [
    "all_molecules = list()\n",
    "\n",
    "with open('bg_data.txt', 'r') as infile:\n",
    "    input_rows = csv.DictReader(infile)\n",
    "    \n",
    "    for row in input_rows:\n",
    "        current_mol = ([float(row['Cs']), float(row['FA']), float(row['Cl']), float(row['Br'])], float(row['Bandgap']))\n",
    "        all_molecules.append(current_mol)\n",
    "\n",
    "random.shuffle(all_molecules)\n",
    "\n",
    "\n",
    "num_train = int(len(all_molecules) * 0.8)\n",
    "\n",
    "# each point in x_train has 4 values - 1 for each feature\n",
    "x_train = np.array([x[0] for x in all_molecules[:num_train]])\n",
    "# each point in y_train has 1 value - the bandgap of the molecule\n",
    "y_train = np.array([x[1] for x in all_molecules[:num_train]])\n",
    "\n",
    "x_test = np.array([x[0] for x in all_molecules[num_train:]])\n",
    "y_test = np.array([x[1] for x in all_molecules[num_train:]])"
   ]
  },
  {
   "cell_type": "markdown",
   "id": "square-direction",
   "metadata": {},
   "source": [
    "### 4.1 Implement a Linear Regression model that minimizes the MSE **without using any libraries**. You may use NumPy to vectorize your code, but *do not use numpy.polyfit* or anything similar.\n",
    "\n",
    "4.1.1 Explain how you plan to implement Linear Regression in 5-10 lines.\n",
    "\n",
    " "
   ]
  },
  {
   "cell_type": "markdown",
   "id": "frozen-forth",
   "metadata": {},
   "source": [
    "<!-- your answer to 1.1.1 -->\n",
    "We shall first look at the problem we are trying to solve. We have a four dimensional input (```x_train```), which is being mapped to a real number (```y```). We, plan to fit the data as follows. \n",
    " \n",
    " $\\theta.X + b = y $\n",
    "\n",
    "\n",
    " Where the paramter $\\theta$, is a 4 dimensional vector and $b$ is  The parameters we aim to predict are $\\theta, b$, which will result in the least MSE (Or rather the objective loss function). We shall achieve this with te help of Gradient Descent. <br>\n",
    " $\\theta^{i+1} = \\theta^i - \\eta*(\\nabla_{\\theta}J)$<br>\n",
    " $b^{i+1} = b^i - \\eta*(\\nabla_{b}J)$<br>\n",
    " $\\hat{y_i} = \\theta.X_i + b$<br>\n",
    " $J = \\frac{1}{M}\\sum_{i = 1}^m(y_i - \\hat{y_i})^2$<br>\n",
    "\n",
    " This is done for multiple number of epochs, and then the parameters are frozen, and tested on. "
   ]
  },
  {
   "cell_type": "markdown",
   "id": "addressed-winter",
   "metadata": {},
   "source": [
    "4.1.2 Implement Linear Regression using `x_train` and `y_train` as the train dataset.\n",
    "\n",
    "4.1.2.1 Choose the best learning rate and print the learning rate for which you achieved the best MSE."
   ]
  },
  {
   "cell_type": "code",
   "execution_count": 12,
   "id": "angry-depression",
   "metadata": {},
   "outputs": [
    {
     "name": "stdout",
     "output_type": "stream",
     "text": [
      "Training Done:\n",
      " Time: 0.0840987409974332 s\n"
     ]
    }
   ],
   "source": [
    "class linear_regression():\n",
    "    def __init__(self, learning_rate):\n",
    "        self.parameters = None\n",
    "        self.learning_rate = learning_rate\n",
    "    def fit(self, x_train, y_train, epochs):\n",
    "        self.parameters, gradient = np.zeros(x_train[0].shape), np.zeros(x_train[0].shape)\n",
    "        bias_gradient = 0\n",
    "        self.bias = 0\n",
    "        for _ in range(epochs):\n",
    "            loss = 0\n",
    "            diff = 0\n",
    "            for i in range(len(x_train)):\n",
    "                y_temp = np.dot(self.parameters, x_train[i]) + self.bias\n",
    "                diff = y_temp - y_train[i]\n",
    "                loss += diff**2\n",
    "                gradient += 2*x_train[i]*diff\n",
    "                bias_gradient += diff\n",
    "            gradient /= len(x_train)\n",
    "            bias_gradient  /= len(x_train)\n",
    "            loss /= len(x_train)\n",
    "            self.parameters -= self.learning_rate*(gradient)\n",
    "            self.bias -= self.learning_rate*(bias_gradient)    \n",
    "    def predict(self, x):\n",
    "        y_pred = []\n",
    "        for i in range(len(x)):\n",
    "            y_pred += [np.dot(self.parameters, x[i]) + self.bias]\n",
    "        y_pred = np.array(y_pred)\n",
    "        return y_pred\n",
    "x = linear_regression(0.3)\n",
    "start = timeit.default_timer()\n",
    "x.fit(x_train, y_train, 100)\n",
    "end = timeit.default_timer()\n",
    "print(\"Training Done:\\n Time:\", end-start, \"s\")"
   ]
  },
  {
   "cell_type": "code",
   "execution_count": 13,
   "id": "585f914c",
   "metadata": {},
   "outputs": [
    {
     "name": "stdout",
     "output_type": "stream",
     "text": [
      "Mean Square Error: \n",
      "0.08620944847648604\n"
     ]
    }
   ],
   "source": [
    "print(\"Mean Square Error: \")\n",
    "print(sum((x.predict(x_test) - y_test)**2))"
   ]
  },
  {
   "cell_type": "markdown",
   "id": "angry-tampa",
   "metadata": {},
   "source": [
    "4.1.3 Make a [Parity Plot](https://en.wikipedia.org/wiki/Parity_plot) of your model's bandgap predictions on the test set with the actual values."
   ]
  },
  {
   "cell_type": "code",
   "execution_count": 14,
   "id": "foster-center",
   "metadata": {},
   "outputs": [
    {
     "data": {
      "image/png": "[encoded data removed]",
      "text/plain": [
       "<Figure size 500x1000 with 1 Axes>"
      ]
     },
     "metadata": {},
     "output_type": "display_data"
    }
   ],
   "source": [
    "# Get the predictions of x_test into `y_pred`\n",
    "\n",
    "\n",
    "# ...\n",
    "#\n",
    "\n",
    "y_pred = x.predict(x_test)\n",
    "import matplotlib.pyplot as plt\n",
    "fig, ax = plt.subplots(figsize=(5, 10))\n",
    "\n",
    "ax.scatter(y_test, y_pred)\n",
    "\n",
    "lims = [\n",
    "    np.min([ax.get_xlim(), ax.get_ylim()]),\n",
    "    np.max([ax.get_xlim(), ax.get_ylim()]),\n",
    "]\n",
    "ax.plot(lims, lims, 'k-', alpha=0.75, zorder=0)\n",
    "ax.set_aspect('equal')\n",
    "ax.set_xlim(lims)\n",
    "ax.set_ylim(lims)\n",
    "\n",
    "ax.set_title('Parity Plot of Custom Linear Regression')\n",
    "ax.set_xlabel('Ground truth bandgap values')\n",
    "ax.set_ylabel('Predicted bandgap values')\n",
    "plt.show()"
   ]
  },
  {
   "cell_type": "markdown",
   "id": "dominant-chaos",
   "metadata": {},
   "source": [
    "### 4.2 Implement Ridge regression\n",
    "4.2.1 Explain Ridge regression briefly in 1-2 lines."
   ]
  },
  {
   "cell_type": "markdown",
   "id": "happy-cyprus",
   "metadata": {},
   "source": [
    "<!-- Your answer to 1.2.1 -->\n",
    "Ridge regression does the same thing that Vanilla regression does but with a variation in the loss function. It employs a regularization technique callled as L2 regularization. Regularization is used to create simpler models, and this avoid overfitting and feature selection. \n",
    "\n",
    "$J = \\frac{1}{M}\\sum_{i = 1}^m(y_i - \\hat{y_i})^2 + \\alpha \\sum \\theta_i^2$"
   ]
  },
  {
   "cell_type": "markdown",
   "id": "tight-forwarding",
   "metadata": {},
   "source": [
    "4.2.2 Implement Ridge regression and make a table of different RMSE scores you achieved with different values of alpha. What does the parameter `alpha` do? How does it affect the results here? Explain in 5-10 lines in total. (You can use scikit-learn from this cell onwards)\n",
    "\n",
    "- The parameter alpha, determines how strongly the regularization is applied.\n",
    "- Must belong to [0, $\\infty$]\n",
    "- Smaller the value of alpha, smaller the regularization. Zero alpha gives the same results as a vanilla linear regression. (This is evident from the fact that Ridge and Lasso Regression techniques, give the same MSE, with $\\alpha = 0$)\n",
    "- If a sufficiently large value of $\\alpha$ would result in the paramters with L2 norm with small coefficients, but not zero. \n",
    "- Hence the alpha value must be chose in such a way that the MSE and the L2 Norm are minimized properly.\n",
    "- Too large of a alpha, would result in a simpler model, but maybe way too simpler that could be underfitting. ($\\uparrow$ Bias)\n",
    "- Too small of a alpha, would result in a complex model, but may have to risk the overfitting. ($\\uparrow$ Variance)"
   ]
  },
  {
   "cell_type": "code",
   "execution_count": 15,
   "id": "violent-northern",
   "metadata": {},
   "outputs": [],
   "source": [
    "# you should not have imported sklearn before this point\n",
    "import sklearn\n",
    "from sklearn.linear_model import Ridge\n",
    "from sklearn.metrics import accuracy_score\n",
    "\n",
    "alpha_values = [0, 0.001, 0.01, 0.1, 1.0, 10]\n",
    "mse_dict = []\n",
    "for alpha in alpha_values:\n",
    "    ridge_regression = Ridge(alpha = alpha)\n",
    "    ridge_regression.fit(x_train, y_train)\n",
    "    ridge_y_pred = ridge_regression.predict(x_test)\n",
    "    mse_dict += [np.sqrt(sum((ridge_y_pred - y_test)**2))]\n",
    "    # implement Ridge regression and make a table where you explore the effect of different values of `alpha`\n"
   ]
  },
  {
   "cell_type": "code",
   "execution_count": 16,
   "id": "69906b75",
   "metadata": {},
   "outputs": [
    {
     "data": {
      "text/html": [
       "<div>\n",
       "<style scoped>\n",
       "    .dataframe tbody tr th:only-of-type {\n",
       "        vertical-align: middle;\n",
       "    }\n",
       "\n",
       "    .dataframe tbody tr th {\n",
       "        vertical-align: top;\n",
       "    }\n",
       "\n",
       "    .dataframe thead th {\n",
       "        text-align: right;\n",
       "    }\n",
       "</style>\n",
       "<table border=\"1\" class=\"dataframe\">\n",
       "  <thead>\n",
       "    <tr style=\"text-align: right;\">\n",
       "      <th></th>\n",
       "      <th>Alpha</th>\n",
       "      <th>RMSE</th>\n",
       "    </tr>\n",
       "  </thead>\n",
       "  <tbody>\n",
       "    <tr>\n",
       "      <th>0</th>\n",
       "      <td>0.000</td>\n",
       "      <td>0.283468</td>\n",
       "    </tr>\n",
       "    <tr>\n",
       "      <th>1</th>\n",
       "      <td>0.001</td>\n",
       "      <td>0.283459</td>\n",
       "    </tr>\n",
       "    <tr>\n",
       "      <th>2</th>\n",
       "      <td>0.010</td>\n",
       "      <td>0.283398</td>\n",
       "    </tr>\n",
       "    <tr>\n",
       "      <th>3</th>\n",
       "      <td>0.100</td>\n",
       "      <td>0.284385</td>\n",
       "    </tr>\n",
       "    <tr>\n",
       "      <th>4</th>\n",
       "      <td>1.000</td>\n",
       "      <td>0.384821</td>\n",
       "    </tr>\n",
       "    <tr>\n",
       "      <th>5</th>\n",
       "      <td>10.000</td>\n",
       "      <td>1.153260</td>\n",
       "    </tr>\n",
       "  </tbody>\n",
       "</table>\n",
       "</div>"
      ],
      "text/plain": [
       "    Alpha      RMSE\n",
       "0   0.000  0.283468\n",
       "1   0.001  0.283459\n",
       "2   0.010  0.283398\n",
       "3   0.100  0.284385\n",
       "4   1.000  0.384821\n",
       "5  10.000  1.153260"
      ]
     },
     "execution_count": 16,
     "metadata": {},
     "output_type": "execute_result"
    }
   ],
   "source": [
    "df = pd.DataFrame({\"Alpha\": alpha_values, \"RMSE\": mse_dict})\n",
    "df.set_index(\"Alpha\")\n",
    "df"
   ]
  },
  {
   "cell_type": "markdown",
   "id": "adolescent-temperature",
   "metadata": {},
   "source": [
    "### 4.3 Implement Lasso regression\n",
    "4.3.1 Explain Lasso regression briefly in 1-2 lines."
   ]
  },
  {
   "cell_type": "markdown",
   "id": "144cedf1",
   "metadata": {},
   "source": [
    "Lasso Regularization, just like Ridge regression, is a variant of the vanilla linear regression, which uses regularization techniques to produce simpler models, to address overfitting and feature selection. Instead of L2 regularization, like Ridge Regression, Lasso Regression uses L1 regularization technique. \n",
    "\n",
    "$J \\frac{1}{M}\\sum_{i = 1}^m(y_i - \\hat{y_i})^2 + \\alpha\\sum \\vert \\theta_i \\vert$ "
   ]
  },
  {
   "cell_type": "markdown",
   "id": "popular-wonder",
   "metadata": {},
   "source": [
    "4.3.2 Implement Lasso regression and make a table of different RMSE scores you achieved with different values of alpha. What does the parameter `alpha` do? How does it affect the results here? Explain in 5-10 lines in total.\n",
    "\n",
    "- The parameter alpha, determines how strongly the regularization is applied.\n",
    "- Must belong to [0, $\\infty$]\n",
    "- Smaller the value of alpha, smaller the regularization. Zero alpha gives the same results as a vanilla linear regression. (This is evident from the fact that Ridge and Lasso Regression techniques, give the same MSE, with $\\alpha = 0$)\n",
    "- If a sufficiently large value of $\\alpha$ would result in the paramters with L2 norm with small coefficients, tend to make them zero. \n",
    "- Hence the alpha value must be chose in such a way that the MSE and the L2 Norm are minimized properly.\n",
    "- Too large of a alpha, would result in a simpler model, but maybe way too simpler that could be underfitting. ($\\uparrow$ Bias)\n",
    "- Too small of a alpha, would result in a complex model, but may have to risk the overfitting. ($\\uparrow$ Variance)"
   ]
  },
  {
   "cell_type": "code",
   "execution_count": 17,
   "id": "extra-brighton",
   "metadata": {},
   "outputs": [
    {
     "name": "stderr",
     "output_type": "stream",
     "text": [
      "/var/folders/13/_wyhp36n6jgdfcwhj2x6mm940000gn/T/ipykernel_28715/3429651262.py:8: UserWarning: With alpha=0, this algorithm does not converge well. You are advised to use the LinearRegression estimator\n",
      "  lasso_regression.fit(x_train, y_train)\n",
      "/usr/local/lib/python3.10/site-packages/sklearn/linear_model/_coordinate_descent.py:648: UserWarning: Coordinate descent with no regularization may lead to unexpected results and is discouraged.\n",
      "  model = cd_fast.enet_coordinate_descent(\n",
      "/usr/local/lib/python3.10/site-packages/sklearn/linear_model/_coordinate_descent.py:648: ConvergenceWarning: Objective did not converge. You might want to increase the number of iterations, check the scale of the features or consider increasing regularisation. Duality gap: 2.623e-01, tolerance: 1.784e-03 Linear regression models with null weight for the l1 regularization term are more efficiently fitted using one of the solvers implemented in sklearn.linear_model.Ridge/RidgeCV instead.\n",
      "  model = cd_fast.enet_coordinate_descent(\n"
     ]
    }
   ],
   "source": [
    "# implement Lasso regression and make a table where you explore the effect of different values of `alpha`\n",
    "from sklearn.linear_model import Lasso\n",
    "\n",
    "alpha_values = [0, 0.001, 0.01, 0.1, 1.0, 10]\n",
    "mse_dict = []\n",
    "for alpha in alpha_values:\n",
    "    lasso_regression = Lasso(alpha = alpha)\n",
    "    lasso_regression.fit(x_train, y_train)\n",
    "    ridge_y_pred = lasso_regression.predict(x_test)\n",
    "    mse_dict += [np.sqrt(sum((ridge_y_pred - y_test)**2))]"
   ]
  },
  {
   "cell_type": "code",
   "execution_count": 18,
   "id": "accompanied-worst",
   "metadata": {},
   "outputs": [
    {
     "data": {
      "text/html": [
       "<div>\n",
       "<style scoped>\n",
       "    .dataframe tbody tr th:only-of-type {\n",
       "        vertical-align: middle;\n",
       "    }\n",
       "\n",
       "    .dataframe tbody tr th {\n",
       "        vertical-align: top;\n",
       "    }\n",
       "\n",
       "    .dataframe thead th {\n",
       "        text-align: right;\n",
       "    }\n",
       "</style>\n",
       "<table border=\"1\" class=\"dataframe\">\n",
       "  <thead>\n",
       "    <tr style=\"text-align: right;\">\n",
       "      <th></th>\n",
       "      <th>Alpha</th>\n",
       "      <th>RMSE</th>\n",
       "    </tr>\n",
       "  </thead>\n",
       "  <tbody>\n",
       "    <tr>\n",
       "      <th>0</th>\n",
       "      <td>0.000</td>\n",
       "      <td>0.283468</td>\n",
       "    </tr>\n",
       "    <tr>\n",
       "      <th>1</th>\n",
       "      <td>0.001</td>\n",
       "      <td>0.282557</td>\n",
       "    </tr>\n",
       "    <tr>\n",
       "      <th>2</th>\n",
       "      <td>0.010</td>\n",
       "      <td>0.368660</td>\n",
       "    </tr>\n",
       "    <tr>\n",
       "      <th>3</th>\n",
       "      <td>0.100</td>\n",
       "      <td>2.048338</td>\n",
       "    </tr>\n",
       "    <tr>\n",
       "      <th>4</th>\n",
       "      <td>1.000</td>\n",
       "      <td>2.085298</td>\n",
       "    </tr>\n",
       "    <tr>\n",
       "      <th>5</th>\n",
       "      <td>10.000</td>\n",
       "      <td>2.085298</td>\n",
       "    </tr>\n",
       "  </tbody>\n",
       "</table>\n",
       "</div>"
      ],
      "text/plain": [
       "    Alpha      RMSE\n",
       "0   0.000  0.283468\n",
       "1   0.001  0.282557\n",
       "2   0.010  0.368660\n",
       "3   0.100  2.048338\n",
       "4   1.000  2.085298\n",
       "5  10.000  2.085298"
      ]
     },
     "execution_count": 18,
     "metadata": {},
     "output_type": "execute_result"
    }
   ],
   "source": [
    "df = pd.DataFrame({\"Alpha\": alpha_values, \"RMSE\": mse_dict})\n",
    "df.set_index(\"Alpha\")\n",
    "df"
   ]
  }
 ],
 "metadata": {
  "kernelspec": {
   "display_name": "Python 3.10.6 64-bit",
   "language": "python",
   "name": "python3"
  },
  "language_info": {
   "codemirror_mode": {
    "name": "ipython",
    "version": 3
   },
   "file_extension": ".py",
   "mimetype": "text/x-python",
   "name": "python",
   "nbconvert_exporter": "python",
   "pygments_lexer": "ipython3",
   "version": "3.10.6"
  },
  "vscode": {
   "interpreter": {
    "hash": "aee8b7b246df8f9039afb4144a1f6fd8d2ca17a180786b69acc140d282b71a49"
   }
  }
 },
 "nbformat": 4,
 "nbformat_minor": 5
}
