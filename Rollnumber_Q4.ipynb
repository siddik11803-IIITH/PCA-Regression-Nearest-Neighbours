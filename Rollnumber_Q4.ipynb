{
 "cells": [
  {
   "cell_type": "markdown",
   "id": "improving-pepper",
   "metadata": {},
   "source": [
    "# Assignment 2 - Question 4\n",
    "The objective of this assignment is to get you familiarize with  the  problem  of  `Linear Regression`.\n",
    "\n",
    "## Instructions\n",
    "- Write your code and analysis in the indicated cells.\n",
    "- Ensure that this notebook runs without errors when the cells are run in sequence.\n",
    "- Do not attempt to change the contents of other cells.\n",
    "- No inbuilt functions to be used until specified\n",
    "\n",
    "## Submission\n",
    "- Ensure that this notebook runs without errors when the cells are run in sequence.\n",
    "- Rename the notebook to `<roll_number>_Q4.ipynb`.\n",
    "- Fill the Name and Roll number in the below markdown"
   ]
  },
  {
   "cell_type": "markdown",
   "id": "6f6269f1",
   "metadata": {},
   "source": [
    "Name: <br>\n",
    "Roll Number:"
   ]
  },
  {
   "cell_type": "markdown",
   "id": "final-transaction",
   "metadata": {},
   "source": [
    "## Background about the dataset\n",
    "\n",
    "TLDR: You have 4 independent variables (`float`) for each molecule. You can use a linear combination of these 4 independent variables to predict the bandgap (dependent variable) of each molecule.\n",
    "\n",
    "You can read more about the problem in [Li et al, Bandgap tuning strategy by cations and halide ions of lead halide perovskites learned from machine learning, RSC Adv., 2021,11, 15688-15694](https://doi.org/10.1039/D1RA03117A)."
   ]
  },
  {
   "cell_type": "code",
   "execution_count": 13,
   "id": "lyric-olympus",
   "metadata": {},
   "outputs": [],
   "source": [
    "import csv\n",
    "import random\n",
    "import numpy as np"
   ]
  },
  {
   "cell_type": "code",
   "execution_count": 14,
   "id": "hundred-receipt",
   "metadata": {},
   "outputs": [],
   "source": [
    "all_molecules = list()\n",
    "\n",
    "with open('bg_data.txt', 'r') as infile:\n",
    "    input_rows = csv.DictReader(infile)\n",
    "    \n",
    "    for row in input_rows:\n",
    "        current_mol = ([float(row['Cs']), float(row['FA']), float(row['Cl']), float(row['Br'])], float(row['Bandgap']))\n",
    "        all_molecules.append(current_mol)\n",
    "\n",
    "random.shuffle(all_molecules)\n",
    "\n",
    "\n",
    "num_train = int(len(all_molecules) * 0.8)\n",
    "\n",
    "# each point in x_train has 4 values - 1 for each feature\n",
    "x_train = np.array([x[0] for x in all_molecules[:num_train]])\n",
    "# each point in y_train has 1 value - the bandgap of the molecule\n",
    "y_train = np.array([x[1] for x in all_molecules[:num_train]])\n",
    "\n",
    "x_test = np.array([x[0] for x in all_molecules[num_train:]])\n",
    "y_test = np.array([x[1] for x in all_molecules[num_train:]])"
   ]
  },
  {
   "cell_type": "code",
   "execution_count": 15,
   "id": "52190925",
   "metadata": {},
   "outputs": [],
   "source": [
    "import pandas as pd\n"
   ]
  },
  {
   "cell_type": "markdown",
   "id": "square-direction",
   "metadata": {},
   "source": [
    "### 4.1 Implement a Linear Regression model that minimizes the MSE **without using any libraries**. You may use NumPy to vectorize your code, but *do not use numpy.polyfit* or anything similar.\n",
    "\n",
    "4.1.1 Explain how you plan to implement Linear Regression in 5-10 lines."
   ]
  },
  {
   "cell_type": "markdown",
   "id": "frozen-forth",
   "metadata": {},
   "source": [
    "<!-- your answer to 1.1.1 -->"
   ]
  },
  {
   "cell_type": "markdown",
   "id": "addressed-winter",
   "metadata": {},
   "source": [
    "4.1.2 Implement Linear Regression using `x_train` and `y_train` as the train dataset.\n",
    "\n",
    "4.1.2.1 Choose the best learning rate and print the learning rate for which you achieved the best MSE."
   ]
  },
  {
   "cell_type": "code",
   "execution_count": 16,
   "id": "angry-depression",
   "metadata": {},
   "outputs": [],
   "source": [
    "class linear_regression():\n",
    "    def __init__(self, learning_rate):\n",
    "        self.parameters = None\n",
    "        self.learning_rate = learning_rate\n",
    "    def fit(self, x_train, y_train, epochs):\n",
    "        self.parameters, gradient = np.zeros(x_train[0].shape), np.zeros(x_train[0].shape)\n",
    "        bias_gradient = 0\n",
    "        self.bias = 0\n",
    "        loss = 0\n",
    "        for _ in range(epochs):\n",
    "            loss = 0\n",
    "            diff = 0\n",
    "            for i in range(len(x_train)):\n",
    "                y_temp = np.dot(self.parameters, x_train[i]) + self.bias\n",
    "                diff = y_temp - y_train[i]\n",
    "                loss += diff**2\n",
    "                gradient += 2*x_train[i]*diff\n",
    "                bias_gradient += diff\n",
    "            gradient /= len(x_train)\n",
    "            bias_gradient  /= len(x_train)\n",
    "            loss /= len(x_train)\n",
    "            self.parameters -= self.learning_rate*(gradient)\n",
    "            self.bias -= self.learning_rate*(bias_gradient)    \n",
    "    def predict(self, x):\n",
    "        y_pred = []\n",
    "        for i in range(len(x)):\n",
    "            y_pred += [np.dot(self.parameters, x[i]) + self.bias]\n",
    "        y_pred = np.array(y_pred)\n",
    "        return y_pred\n",
    "x = linear_regression(0.03)\n",
    "x.fit(x_train, y_train, 10000)"
   ]
  },
  {
   "cell_type": "code",
   "execution_count": null,
   "id": "ef6f2846",
   "metadata": {},
   "outputs": [],
   "source": []
  },
  {
   "cell_type": "code",
   "execution_count": 17,
   "id": "585f914c",
   "metadata": {},
   "outputs": [
    {
     "name": "stdout",
     "output_type": "stream",
     "text": [
      "[2.527606207189069]\n",
      "[1.6921964510553495]\n",
      "[1.6754810403862925]\n",
      "[1.6931740631399121]\n",
      "[1.7708402429857122]\n",
      "[1.5625201846817276]\n",
      "[2.0569178507839703]\n",
      "[1.7223739564765528]\n",
      "[3.0597598645578854]\n",
      "[2.5546080506258457]\n",
      "[2.7670753530050365]\n",
      "[1.7102454784985621]\n",
      "[1.7654068003110142]\n",
      "[1.7618212935201725]\n",
      "[1.773901174102561]\n",
      "[2.199838945713301]\n",
      "[1.60061310047332]\n",
      "[1.883892468338751]\n",
      "[1.585622351412244]\n",
      "[1.5387806854522983]\n",
      "[2.731598442513782]\n",
      "[2.6783830767769006]\n",
      "0.08285040938876123\n"
     ]
    }
   ],
   "source": [
    "print(sum((x.predict(x_test) - y_test)**2))"
   ]
  },
  {
   "cell_type": "markdown",
   "id": "angry-tampa",
   "metadata": {},
   "source": [
    "4.1.3 Make a [Parity Plot](https://en.wikipedia.org/wiki/Parity_plot) of your model's bandgap predictions on the test set with the actual values."
   ]
  },
  {
   "cell_type": "code",
   "execution_count": 18,
   "id": "foster-center",
   "metadata": {},
   "outputs": [
    {
     "name": "stdout",
     "output_type": "stream",
     "text": [
      "[2.527606207189069]\n",
      "[1.6921964510553495]\n",
      "[1.6754810403862925]\n",
      "[1.6931740631399121]\n",
      "[1.7708402429857122]\n",
      "[1.5625201846817276]\n",
      "[2.0569178507839703]\n",
      "[1.7223739564765528]\n",
      "[3.0597598645578854]\n",
      "[2.5546080506258457]\n",
      "[2.7670753530050365]\n",
      "[1.7102454784985621]\n",
      "[1.7654068003110142]\n",
      "[1.7618212935201725]\n",
      "[1.773901174102561]\n",
      "[2.199838945713301]\n",
      "[1.60061310047332]\n",
      "[1.883892468338751]\n",
      "[1.585622351412244]\n",
      "[1.5387806854522983]\n",
      "[2.731598442513782]\n",
      "[2.6783830767769006]\n"
     ]
    },
    {
     "data": {
      "image/png": "[encoded data removed]",
      "text/plain": [
       "<Figure size 500x1000 with 1 Axes>"
      ]
     },
     "metadata": {},
     "output_type": "display_data"
    }
   ],
   "source": [
    "# Get the predictions of x_test into `y_pred`\n",
    "\n",
    "\n",
    "# ...\n",
    "#\n",
    "\n",
    "y_pred = x.predict(x_test)\n",
    "import matplotlib.pyplot as plt\n",
    "fig, ax = plt.subplots(figsize=(5, 10))\n",
    "\n",
    "ax.scatter(y_test, y_pred)\n",
    "\n",
    "lims = [\n",
    "    np.min([ax.get_xlim(), ax.get_ylim()]),\n",
    "    np.max([ax.get_xlim(), ax.get_ylim()]),\n",
    "]\n",
    "ax.plot(lims, lims, 'k-', alpha=0.75, zorder=0)\n",
    "ax.set_aspect('equal')\n",
    "ax.set_xlim(lims)\n",
    "ax.set_ylim(lims)\n",
    "\n",
    "ax.set_title('Parity Plot of Custom Linear Regression')\n",
    "ax.set_xlabel('Ground truth bandgap values')\n",
    "ax.set_ylabel('Predicted bandgap values')\n",
    "plt.show()"
   ]
  },
  {
   "cell_type": "markdown",
   "id": "dominant-chaos",
   "metadata": {},
   "source": [
    "### 4.2 Implement Ridge regression\n",
    "4.2.1 Explain Ridge regression briefly in 1-2 lines."
   ]
  },
  {
   "cell_type": "markdown",
   "id": "happy-cyprus",
   "metadata": {},
   "source": [
    "<!-- Your answer to 1.2.1 -->"
   ]
  },
  {
   "cell_type": "markdown",
   "id": "tight-forwarding",
   "metadata": {},
   "source": [
    "4.2.2 Implement Ridge regression and make a table of different RMSE scores you achieved with different values of alpha. What does the parameter `alpha` do? How does it affect the results here? Explain in 5-10 lines in total. (You can use scikit-learn from this cell onwards)"
   ]
  },
  {
   "cell_type": "code",
   "execution_count": 19,
   "id": "violent-northern",
   "metadata": {},
   "outputs": [],
   "source": [
    "# you should not have imported sklearn before this point\n",
    "import sklearn\n",
    "\n",
    "# implement Ridge regression and make a table where you explore the effect of different values of `alpha`"
   ]
  },
  {
   "cell_type": "markdown",
   "id": "adolescent-temperature",
   "metadata": {},
   "source": [
    "### 4.3 Implement Lasso regression\n",
    "4.3.1 Explain Lasso regression briefly in 1-2 lines."
   ]
  },
  {
   "cell_type": "markdown",
   "id": "popular-wonder",
   "metadata": {},
   "source": [
    "4.3.2 Implement Lasso regression and make a table of different RMSE scores you achieved with different values of alpha. What does the parameter `alpha` do? How does it affect the results here? Explain in 5-10 lines in total."
   ]
  },
  {
   "cell_type": "code",
   "execution_count": 20,
   "id": "extra-brighton",
   "metadata": {},
   "outputs": [],
   "source": [
    "# implement Lasso regression and make a table where you explore the effect of different values of `alpha`"
   ]
  },
  {
   "cell_type": "code",
   "execution_count": null,
   "id": "accompanied-worst",
   "metadata": {},
   "outputs": [],
   "source": []
  }
 ],
 "metadata": {
  "kernelspec": {
   "display_name": "Python 3.10.6 64-bit",
   "language": "python",
   "name": "python3"
  },
  "language_info": {
   "codemirror_mode": {
    "name": "ipython",
    "version": 3
   },
   "file_extension": ".py",
   "mimetype": "text/x-python",
   "name": "python",
   "nbconvert_exporter": "python",
   "pygments_lexer": "ipython3",
   "version": "3.10.6"
  },
  "vscode": {
   "interpreter": {
    "hash": "aee8b7b246df8f9039afb4144a1f6fd8d2ca17a180786b69acc140d282b71a49"
   }
  }
 },
 "nbformat": 4,
 "nbformat_minor": 5
}
