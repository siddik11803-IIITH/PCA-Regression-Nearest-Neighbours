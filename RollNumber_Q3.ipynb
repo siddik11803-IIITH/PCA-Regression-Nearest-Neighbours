{
 "cells": [
  {
   "cell_type": "markdown",
   "id": "389ddf1d",
   "metadata": {},
   "source": [
    "# Assignment 2 - Question 3\n",
    "The objective of this assignment is to get you familiarize with  the  problem  of  `Logistic Regression`.\n",
    "\n",
    "\n",
    "## Instructions\n",
    "- Do not Use Direct Inbuilt functions for the Task.\n",
    "- Numpy or other math libraries are allowed.\n",
    "- Ensure that this notebook runs without errors when the cells are run in sequence.\n",
    "- Do not change the contents of the Given cells. Use new cells to Write your code.\n",
    "\n",
    "\n",
    "## Submission\n",
    "- Ensure that this notebook runs without errors when the cells are run in sequence.\n",
    "- Rename the notebook to `<roll_number>_Q3.ipynb`\n",
    "- Fill the Name and Roll number in the below markdown"
   ]
  },
  {
   "cell_type": "markdown",
   "id": "6f6269f1",
   "metadata": {},
   "source": [
    "Name: <br>\n",
    "Roll Number:"
   ]
  },
  {
   "cell_type": "markdown",
   "id": "850dba90",
   "metadata": {},
   "source": [
    "### Dataset\n",
    "\n",
    "Use the code below to load the Dataset\n"
   ]
  },
  {
   "cell_type": "code",
   "execution_count": 193,
   "id": "225cdbe5",
   "metadata": {},
   "outputs": [],
   "source": [
    "import numpy as np\n",
    "import matplotlib.pyplot as plt"
   ]
  },
  {
   "cell_type": "code",
   "execution_count": 194,
   "id": "73ed0112",
   "metadata": {},
   "outputs": [],
   "source": [
    "from sklearn.datasets import make_blobs\n",
    "X, y =  make_blobs(n_samples=100, centers=[[2,4],[4,2]], random_state=20)"
   ]
  },
  {
   "cell_type": "code",
   "execution_count": 195,
   "id": "5a861713",
   "metadata": {},
   "outputs": [],
   "source": [
    "from sklearn.model_selection import train_test_split\n",
    "x_train, x_test, y_train, y_test = train_test_split(X, y, test_size=0.2, random_state=0)"
   ]
  },
  {
   "cell_type": "code",
   "execution_count": 196,
   "id": "b2ec2927",
   "metadata": {},
   "outputs": [
    {
     "data": {
      "text/plain": [
       "[<matplotlib.lines.Line2D at 0x13aa44490>]"
      ]
     },
     "execution_count": 196,
     "metadata": {},
     "output_type": "execute_result"
    },
    {
     "data": {
      "image/png": "[encoded data removed]",
      "text/plain": [
       "<Figure size 640x480 with 1 Axes>"
      ]
     },
     "metadata": {},
     "output_type": "display_data"
    }
   ],
   "source": [
    "#Visualize dataset \n",
    "plt.plot(X[:,0][y==0],X[:,1][y==0],'o',color='red')\n",
    "plt.plot(X[:,0][y==1],X[:,1][y==1],'^',color='blue')\n"
   ]
  },
  {
   "cell_type": "markdown",
   "id": "43326e6b",
   "metadata": {},
   "source": [
    "Write your code below for logistic regression with Gradient Descent and plot the decision boundary.<br>\n",
    "Sample output is given in the file `LogisticRegression_sample_result.png`"
   ]
  },
  {
   "cell_type": "code",
   "execution_count": 197,
   "id": "a193966a",
   "metadata": {},
   "outputs": [
    {
     "data": {
      "text/html": [
       "<div>\n",
       "<style scoped>\n",
       "    .dataframe tbody tr th:only-of-type {\n",
       "        vertical-align: middle;\n",
       "    }\n",
       "\n",
       "    .dataframe tbody tr th {\n",
       "        vertical-align: top;\n",
       "    }\n",
       "\n",
       "    .dataframe thead th {\n",
       "        text-align: right;\n",
       "    }\n",
       "</style>\n",
       "<table border=\"1\" class=\"dataframe\">\n",
       "  <thead>\n",
       "    <tr style=\"text-align: right;\">\n",
       "      <th></th>\n",
       "      <th>0</th>\n",
       "      <th>1</th>\n",
       "    </tr>\n",
       "  </thead>\n",
       "  <tbody>\n",
       "    <tr>\n",
       "      <th>0</th>\n",
       "      <td>1.890983</td>\n",
       "      <td>5.556186</td>\n",
       "    </tr>\n",
       "    <tr>\n",
       "      <th>1</th>\n",
       "      <td>4.348489</td>\n",
       "      <td>2.449118</td>\n",
       "    </tr>\n",
       "    <tr>\n",
       "      <th>2</th>\n",
       "      <td>5.850044</td>\n",
       "      <td>1.824194</td>\n",
       "    </tr>\n",
       "    <tr>\n",
       "      <th>3</th>\n",
       "      <td>4.120722</td>\n",
       "      <td>2.414025</td>\n",
       "    </tr>\n",
       "    <tr>\n",
       "      <th>4</th>\n",
       "      <td>4.676640</td>\n",
       "      <td>2.831106</td>\n",
       "    </tr>\n",
       "    <tr>\n",
       "      <th>...</th>\n",
       "      <td>...</td>\n",
       "      <td>...</td>\n",
       "    </tr>\n",
       "    <tr>\n",
       "      <th>95</th>\n",
       "      <td>5.605993</td>\n",
       "      <td>1.846338</td>\n",
       "    </tr>\n",
       "    <tr>\n",
       "      <th>96</th>\n",
       "      <td>1.955805</td>\n",
       "      <td>5.567633</td>\n",
       "    </tr>\n",
       "    <tr>\n",
       "      <th>97</th>\n",
       "      <td>1.590429</td>\n",
       "      <td>5.447407</td>\n",
       "    </tr>\n",
       "    <tr>\n",
       "      <th>98</th>\n",
       "      <td>4.752313</td>\n",
       "      <td>0.665079</td>\n",
       "    </tr>\n",
       "    <tr>\n",
       "      <th>99</th>\n",
       "      <td>4.015654</td>\n",
       "      <td>2.904660</td>\n",
       "    </tr>\n",
       "  </tbody>\n",
       "</table>\n",
       "<p>100 rows × 2 columns</p>\n",
       "</div>"
      ],
      "text/plain": [
       "           0         1\n",
       "0   1.890983  5.556186\n",
       "1   4.348489  2.449118\n",
       "2   5.850044  1.824194\n",
       "3   4.120722  2.414025\n",
       "4   4.676640  2.831106\n",
       "..       ...       ...\n",
       "95  5.605993  1.846338\n",
       "96  1.955805  5.567633\n",
       "97  1.590429  5.447407\n",
       "98  4.752313  0.665079\n",
       "99  4.015654  2.904660\n",
       "\n",
       "[100 rows x 2 columns]"
      ]
     },
     "execution_count": 197,
     "metadata": {},
     "output_type": "execute_result"
    }
   ],
   "source": [
    "import pandas as pd\n",
    "pd.DataFrame(X)"
   ]
  },
  {
   "cell_type": "code",
   "execution_count": 198,
   "id": "c28feeb8",
   "metadata": {},
   "outputs": [
    {
     "data": {
      "text/html": [
       "<div>\n",
       "<style scoped>\n",
       "    .dataframe tbody tr th:only-of-type {\n",
       "        vertical-align: middle;\n",
       "    }\n",
       "\n",
       "    .dataframe tbody tr th {\n",
       "        vertical-align: top;\n",
       "    }\n",
       "\n",
       "    .dataframe thead th {\n",
       "        text-align: right;\n",
       "    }\n",
       "</style>\n",
       "<table border=\"1\" class=\"dataframe\">\n",
       "  <thead>\n",
       "    <tr style=\"text-align: right;\">\n",
       "      <th></th>\n",
       "      <th>0</th>\n",
       "    </tr>\n",
       "  </thead>\n",
       "  <tbody>\n",
       "    <tr>\n",
       "      <th>0</th>\n",
       "      <td>0</td>\n",
       "    </tr>\n",
       "    <tr>\n",
       "      <th>1</th>\n",
       "      <td>1</td>\n",
       "    </tr>\n",
       "    <tr>\n",
       "      <th>2</th>\n",
       "      <td>1</td>\n",
       "    </tr>\n",
       "    <tr>\n",
       "      <th>3</th>\n",
       "      <td>1</td>\n",
       "    </tr>\n",
       "    <tr>\n",
       "      <th>4</th>\n",
       "      <td>1</td>\n",
       "    </tr>\n",
       "    <tr>\n",
       "      <th>...</th>\n",
       "      <td>...</td>\n",
       "    </tr>\n",
       "    <tr>\n",
       "      <th>95</th>\n",
       "      <td>1</td>\n",
       "    </tr>\n",
       "    <tr>\n",
       "      <th>96</th>\n",
       "      <td>0</td>\n",
       "    </tr>\n",
       "    <tr>\n",
       "      <th>97</th>\n",
       "      <td>0</td>\n",
       "    </tr>\n",
       "    <tr>\n",
       "      <th>98</th>\n",
       "      <td>1</td>\n",
       "    </tr>\n",
       "    <tr>\n",
       "      <th>99</th>\n",
       "      <td>1</td>\n",
       "    </tr>\n",
       "  </tbody>\n",
       "</table>\n",
       "<p>100 rows × 1 columns</p>\n",
       "</div>"
      ],
      "text/plain": [
       "    0\n",
       "0   0\n",
       "1   1\n",
       "2   1\n",
       "3   1\n",
       "4   1\n",
       ".. ..\n",
       "95  1\n",
       "96  0\n",
       "97  0\n",
       "98  1\n",
       "99  1\n",
       "\n",
       "[100 rows x 1 columns]"
      ]
     },
     "execution_count": 198,
     "metadata": {},
     "output_type": "execute_result"
    }
   ],
   "source": [
    "pd.DataFrame(y)"
   ]
  },
  {
   "cell_type": "code",
   "execution_count": 199,
   "id": "8adb43b8",
   "metadata": {},
   "outputs": [
    {
     "name": "stdout",
     "output_type": "stream",
     "text": [
      "[ 6.09540099 -2.69082323] -10.589750184531962\n"
     ]
    }
   ],
   "source": [
    "class logistic_regression():\n",
    "    def __init__(self, learning_rate, threshold=0.5):\n",
    "        self.learning_rate = learning_rate\n",
    "        self.threshold = threshold\n",
    "    def sigmoid(self, z):\n",
    "        return 1/(1+np.exp(-z))\n",
    "    def fit(self, x, y, epochs):\n",
    "        self.parameters, gradient = np.zeros(x[0].shape), np.zeros(x[0].shape)\n",
    "        self.bias = 0\n",
    "        bias_gradient = 0\n",
    "        for _ in range(epochs):\n",
    "            loss = 0\n",
    "            diff = 0\n",
    "            for i in range(len(x)):\n",
    "                y_hat = self.sigmoid(np.dot(self.parameters, x[i]) + self.bias)\n",
    "                diff = y_hat - y[i]\n",
    "                gradient += self.learning_rate*(diff)*x[i]\n",
    "                bias_gradient += self.learning_rate*(diff)\n",
    "            gradient /= len(y)\n",
    "            bias_gradient /= len(y)\n",
    "            self.parameters -= self.learning_rate*(gradient)\n",
    "            self.bias -= self.learning_rate*(bias_gradient)\n",
    "            pass\n",
    "    def process(self, z):\n",
    "        if(z > self.threshold):\n",
    "            return 1\n",
    "        else:\n",
    "            return 0\n",
    "    def predict(self, x_test):\n",
    "        y_pred = []\n",
    "        for i in range(len(x_test)):\n",
    "            y_pred += [self.process(self.sigmoid(np.dot(self.parameters, x_test[i]) + self.bias))]\n",
    "        y_pred = np.array(y_pred)\n",
    "        return y_pred\n",
    "    def eval(self, y, y_hat):\n",
    "        score = 0\n",
    "        for i in range(len(y)):\n",
    "            if(y[i] == y_hat[i]):\n",
    "                score += 1\n",
    "        return score/len(y)*100\n",
    "\n",
    "\n",
    "\n",
    "x = logistic_regression(learning_rate=0.9)\n",
    "x.fit(x_train, y_train, 10000)\n",
    "y_pred = x.predict(x_test)\n",
    "# y - y_pred\n",
    "print(x.parameters, x.bias)"
   ]
  },
  {
   "cell_type": "code",
   "execution_count": 200,
   "id": "b47f2bf7",
   "metadata": {},
   "outputs": [
    {
     "data": {
      "image/png": "[encoded data removed]",
      "text/plain": [
       "<Figure size 640x480 with 1 Axes>"
      ]
     },
     "metadata": {},
     "output_type": "display_data"
    }
   ],
   "source": [
    "fig, ax = plt.subplots()\n",
    "plt.plot(X[:,0][y==0],X[:,1][y==0],'o',color='red')\n",
    "plt.plot(X[:,0][y==1],X[:,1][y==1],'^',color='blue')\n",
    "theta_1 = x.parameters[0]\n",
    "theta_2 = x.parameters[1]\n",
    "theta_3 = x.bias\n",
    "x_values = [0, -theta_3/theta_1]\n",
    "y_values = [-theta_3/theta_2, 0]\n",
    "# line_eqn = lambda x : ((y_values[1]-y_values[0])/(x_values[1]-x_values[0])) * (x - x_values[0]) + y_values[0] \n",
    "# slope = (y_values[1]-y_values[0])/(x_values[1] - x_values[0])\n",
    "# xrange = np.arange(0, 8, 0.2)\n",
    "# plt.plot(xrange, [ line_eqn(x) for x in xrange], color='y', linestyle='-', linewidth=1)\n",
    "plt.axline((x_values[0], y_values[0]), (x_values[1], y_values[1]), color='y')\n",
    "plt.show()\n"
   ]
  },
  {
   "cell_type": "code",
   "execution_count": 201,
   "id": "afcc8041",
   "metadata": {},
   "outputs": [
    {
     "data": {
      "text/plain": [
       "85.0"
      ]
     },
     "execution_count": 201,
     "metadata": {},
     "output_type": "execute_result"
    }
   ],
   "source": [
    "x.eval(y_pred, y_test)"
   ]
  },
  {
   "cell_type": "code",
   "execution_count": 202,
   "id": "cbc58533",
   "metadata": {},
   "outputs": [
    {
     "data": {
      "text/plain": [
       "20"
      ]
     },
     "execution_count": 202,
     "metadata": {},
     "output_type": "execute_result"
    }
   ],
   "source": [
    "len(y_pred)"
   ]
  },
  {
   "cell_type": "markdown",
   "id": "c1f2b4c5",
   "metadata": {},
   "source": [
    "### Questions\n",
    "\n",
    "1) Explain the approach of Logistic Regression.<br>\n",
    "2) What is the loss function used?<br>\n",
    "3) Explain if we can use Mean Square Error(MSE) as Loss function."
   ]
  },
  {
   "cell_type": "markdown",
   "id": "343f2cef",
   "metadata": {},
   "source": []
  }
 ],
 "metadata": {
  "kernelspec": {
   "display_name": "Python 3.10.6 64-bit",
   "language": "python",
   "name": "python3"
  },
  "language_info": {
   "codemirror_mode": {
    "name": "ipython",
    "version": 3
   },
   "file_extension": ".py",
   "mimetype": "text/x-python",
   "name": "python",
   "nbconvert_exporter": "python",
   "pygments_lexer": "ipython3",
   "version": "3.10.6"
  },
  "vscode": {
   "interpreter": {
    "hash": "aee8b7b246df8f9039afb4144a1f6fd8d2ca17a180786b69acc140d282b71a49"
   }
  }
 },
 "nbformat": 4,
 "nbformat_minor": 5
}
