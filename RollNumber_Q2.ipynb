{
 "cells": [
  {
   "cell_type": "markdown",
   "id": "timely-inspection",
   "metadata": {},
   "source": [
    "# Assignment 2 - Question 2\n",
    "The objective of this assignment is to get you familiarize with  the  problem  of  `Dimensionality Reduction`.\n",
    "\n",
    "\n",
    "## Instructions\n",
    "\n",
    "- Write your code and analysis in the indicated cells.\n",
    "- Ensure that this notebook runs without errors when the cells are run in sequence.\n",
    "- Do not attempt to change the contents of other cells.\n",
    "- No inbuilt functions to be used until specified. Libraries allowed (Numpy, matplotlib)\n",
    "\n",
    "## Datasets \n",
    "- The IIIT-CFW is database for the cartoon faces in the wild. The dataset contains 8928 annotated cartoon faces of famous personalities of the world with varying profession. Additional 1000 real faces of the public figure to study cross modal retrieval tasks, such as, Photo2Cartoon retrieval. Ref - https://cvit.iiit.ac.in/research/projects/cvit-projects/cartoonfaces\n",
    "- We have sub sampled the following data for this assignment - Cartoon faces of 8 subjects and approx. 100 images for each subject. \n",
    "\n",
    "## Submission\n",
    "- Ensure that this notebook runs without errors when the cells are run in sequence.\n",
    "- Rename the notebook to `<roll_number>_Q2.ipynb`.\n",
    "- Fill the Name and Roll number in the below markdown"
   ]
  },
  {
   "cell_type": "markdown",
   "id": "6f6269f1",
   "metadata": {},
   "source": [
    "Name: <br>\n",
    "Roll Number:"
   ]
  },
  {
   "cell_type": "code",
   "execution_count": 22,
   "id": "israeli-convergence",
   "metadata": {},
   "outputs": [
    {
     "name": "stdout",
     "output_type": "stream",
     "text": [
      "Requirement already satisfied: scikit-learn in /usr/local/lib/python3.10/site-packages (1.1.2)\n",
      "Requirement already satisfied: matplotlib in /usr/local/lib/python3.10/site-packages (3.5.3)\n",
      "Requirement already satisfied: Pillow in /usr/local/lib/python3.10/site-packages (9.2.0)\n",
      "Requirement already satisfied: numpy>=1.17.3 in /usr/local/lib/python3.10/site-packages (from scikit-learn) (1.23.2)\n",
      "Requirement already satisfied: joblib>=1.0.0 in /usr/local/lib/python3.10/site-packages (from scikit-learn) (1.1.0)\n",
      "Requirement already satisfied: scipy>=1.3.2 in /usr/local/lib/python3.10/site-packages (from scikit-learn) (1.9.1)\n",
      "Requirement already satisfied: threadpoolctl>=2.0.0 in /usr/local/lib/python3.10/site-packages (from scikit-learn) (3.1.0)\n",
      "Requirement already satisfied: pyparsing>=2.2.1 in /Users/siddikayyappa/Library/Python/3.10/lib/python/site-packages (from matplotlib) (3.0.9)\n",
      "Requirement already satisfied: python-dateutil>=2.7 in /Users/siddikayyappa/Library/Python/3.10/lib/python/site-packages (from matplotlib) (2.8.2)\n",
      "Requirement already satisfied: kiwisolver>=1.0.1 in /usr/local/lib/python3.10/site-packages (from matplotlib) (1.4.4)\n",
      "Requirement already satisfied: packaging>=20.0 in /Users/siddikayyappa/Library/Python/3.10/lib/python/site-packages (from matplotlib) (21.3)\n",
      "Requirement already satisfied: cycler>=0.10 in /usr/local/lib/python3.10/site-packages (from matplotlib) (0.11.0)\n",
      "Requirement already satisfied: fonttools>=4.22.0 in /usr/local/lib/python3.10/site-packages (from matplotlib) (4.37.1)\n",
      "Requirement already satisfied: six>=1.5 in /Users/siddikayyappa/Library/Python/3.10/lib/python/site-packages (from python-dateutil>=2.7->matplotlib) (1.16.0)\n"
     ]
    }
   ],
   "source": [
    "# Installing Pillow Libraries\n",
    "!pip install scikit-learn matplotlib Pillow"
   ]
  },
  {
   "cell_type": "code",
   "execution_count": 23,
   "id": "automated-neighbor",
   "metadata": {},
   "outputs": [],
   "source": [
    "import numpy as np\n",
    "import os\n",
    "from random import randrange\n",
    "from matplotlib import pyplot as plt\n",
    "from PIL import Image"
   ]
  },
  {
   "cell_type": "markdown",
   "id": "agricultural-expression",
   "metadata": {},
   "source": [
    "## Load Data"
   ]
  },
  {
   "cell_type": "code",
   "execution_count": 26,
   "id": "suitable-powder",
   "metadata": {},
   "outputs": [],
   "source": [
    "cfw_dict = {\n",
    "    'Amitabhbachan': 0,\n",
    "    'AamirKhan': 1,\n",
    "    'DwayneJohnson': 2,\n",
    "    'AishwaryaRai': 3,\n",
    "    'BarackObama': 4,\n",
    "    'NarendraModi': 5,\n",
    "    'ManmohanSingh': 6,\n",
    "    'VladimirPutin': 7\n",
    "}\n",
    "\n",
    "opt = {\n",
    "    'image_size': 32,\n",
    "    'is_grayscale': False,\n",
    "    'val_split': 0.75\n",
    "}"
   ]
  },
  {
   "cell_type": "code",
   "execution_count": 36,
   "id": "lucky-brazil",
   "metadata": {},
   "outputs": [],
   "source": [
    "def load_image(path):\n",
    "    im = Image.open(path).convert('L' if opt['is_grayscale'] else 'RGB')\n",
    "    im = im.resize((opt['image_size'],opt['image_size']))\n",
    "    im = np.array(im)\n",
    "    im.reshape(len(im), -1)\n",
    "    im = im/256\n",
    "    return im\n",
    "\n",
    "def display_images(imgs,classes,row=1,col=2,w=32,h=32):\n",
    "    fig=plt.figure(figsize=(8, 8))\n",
    "    for i in range(1, col*row +1):\n",
    "        img = imgs[i-1]\n",
    "        fig.add_subplot(row, col, i)\n",
    "        \n",
    "        if opt['is_grayscale']:\n",
    "            plt.imshow(img , cmap='gray') \n",
    "        else:\n",
    "            plt.imshow(img)\n",
    "        \n",
    "        plt.title(\"Class:{}\".format(classes[i-1]))\n",
    "        plt.axis('off')\n",
    "    plt.show()\n",
    "\n",
    "def load_data(dir_path):\n",
    "    image_list = []\n",
    "    y_list = []\n",
    "    label_dict = cfw_dict\n",
    "    for filename in sorted(os.listdir(dir_path)):\n",
    "        if filename.endswith(\".png\"):\n",
    "            im = load_image(os.path.join(dir_path,filename))\n",
    "            y = filename.split('_')[0]\n",
    "            y = label_dict[y] \n",
    "            image_list.append(im)\n",
    "            y_list.append(y)\n",
    "        else:\n",
    "            continue\n",
    "    image_list = np.array(image_list)\n",
    "    y_list = np.array(y_list)\n",
    "    print(\"Dataset shape:\",image_list.shape)\n",
    "    print(\"Label shape:\",y_list.shape)\n",
    "\n",
    "    return image_list,y_list"
   ]
  },
  {
   "cell_type": "code",
   "execution_count": 37,
   "id": "ceramic-michigan",
   "metadata": {},
   "outputs": [
    {
     "name": "stdout",
     "output_type": "stream",
     "text": [
      "Dataset shape: (672, 32, 32, 3)\n",
      "Label shape: (672,)\n"
     ]
    }
   ],
   "source": [
    "dirpath = './IIIT-CFW/'\n",
    "X,y = load_data(dirpath)"
   ]
  },
  {
   "cell_type": "code",
   "execution_count": 38,
   "id": "colored-lafayette",
   "metadata": {},
   "outputs": [
    {
     "data": {
      "image/png": "[encoded data removed]",
      "text/plain": [
       "<Figure size 800x800 with 6 Axes>"
      ]
     },
     "metadata": {},
     "output_type": "display_data"
    }
   ],
   "source": [
    "N,H,W = X.shape[0:3]\n",
    "C = 1 if opt['is_grayscale'] else X.shape[3]\n",
    "\n",
    "ind = np.random.randint(0,y.shape[0],6)\n",
    "display_images(X[ind,...],y[ind], row=2,col=3)"
   ]
  },
  {
   "cell_type": "markdown",
   "id": "removed-guarantee",
   "metadata": {},
   "source": [
    "## Dimensionality Reduction\n",
    "- Plot eigen spectrum for the data.\n",
    "\n",
    "Percentage of variance preserved is defined as the fraction of eigen values used. As we include more principal components to describe the data, the percentage of variances preserved under the dimensionality reduction increases. \n",
    "\n",
    "- Plot the percentage of variances vs the number of principal components to validate the above statement.\n",
    "- Try visualizing these eigen vectors. Comment on what these ghost faces represent \n",
    "- Try reconstructing images with your choice of number of principal components and visualize the reconstructed image.\n",
    "\n",
    "Let's define reconstruction error as the frobenius norm of the difference between original and reconstructed image. \n",
    "\n",
    "- Plot the number of principal components vs the corresponding reconstruction error for 5 selected number of principal components of your choice.\n",
    "- Using the two dominant principal values, plot the data with colors showing the labels. What do you observe?\n"
   ]
  },
  {
   "cell_type": "markdown",
   "id": "naughty-adelaide",
   "metadata": {},
   "source": [
    "#### Write a function that gives eigen values and eigen vectors given data"
   ]
  },
  {
   "cell_type": "code",
   "execution_count": 44,
   "id": "b8fee8a8",
   "metadata": {},
   "outputs": [
    {
     "ename": "ValueError",
     "evalue": "Must pass 2-d input. shape=(672, 32, 32, 3)",
     "output_type": "error",
     "traceback": [
      "\u001b[0;31m---------------------------------------------------------------------------\u001b[0m",
      "\u001b[0;31mValueError\u001b[0m                                Traceback (most recent call last)",
      "\u001b[1;32m/Users/siddikayyappa/IIITH/3_year/3_1/SMAI/smai_assignment_2/SMAI-Assignment-2/RollNumber_Q2.ipynb Cell 12\u001b[0m in \u001b[0;36m<cell line: 2>\u001b[0;34m()\u001b[0m\n\u001b[1;32m      <a href='vscode-notebook-cell:/Users/siddikayyappa/IIITH/3_year/3_1/SMAI/smai_assignment_2/SMAI-Assignment-2/RollNumber_Q2.ipynb#X46sZmlsZQ%3D%3D?line=0'>1</a>\u001b[0m \u001b[39mimport\u001b[39;00m \u001b[39mpandas\u001b[39;00m \u001b[39mas\u001b[39;00m \u001b[39mpd\u001b[39;00m\n\u001b[0;32m----> <a href='vscode-notebook-cell:/Users/siddikayyappa/IIITH/3_year/3_1/SMAI/smai_assignment_2/SMAI-Assignment-2/RollNumber_Q2.ipynb#X46sZmlsZQ%3D%3D?line=1'>2</a>\u001b[0m pd\u001b[39m.\u001b[39;49mDataFrame(X)\n",
      "File \u001b[0;32m/usr/local/lib/python3.10/site-packages/pandas/core/frame.py:694\u001b[0m, in \u001b[0;36mDataFrame.__init__\u001b[0;34m(self, data, index, columns, dtype, copy)\u001b[0m\n\u001b[1;32m    684\u001b[0m         mgr \u001b[39m=\u001b[39m dict_to_mgr(\n\u001b[1;32m    685\u001b[0m             \u001b[39m# error: Item \"ndarray\" of \"Union[ndarray, Series, Index]\" has no\u001b[39;00m\n\u001b[1;32m    686\u001b[0m             \u001b[39m# attribute \"name\"\u001b[39;00m\n\u001b[0;32m   (...)\u001b[0m\n\u001b[1;32m    691\u001b[0m             typ\u001b[39m=\u001b[39mmanager,\n\u001b[1;32m    692\u001b[0m         )\n\u001b[1;32m    693\u001b[0m     \u001b[39melse\u001b[39;00m:\n\u001b[0;32m--> 694\u001b[0m         mgr \u001b[39m=\u001b[39m ndarray_to_mgr(\n\u001b[1;32m    695\u001b[0m             data,\n\u001b[1;32m    696\u001b[0m             index,\n\u001b[1;32m    697\u001b[0m             columns,\n\u001b[1;32m    698\u001b[0m             dtype\u001b[39m=\u001b[39;49mdtype,\n\u001b[1;32m    699\u001b[0m             copy\u001b[39m=\u001b[39;49mcopy,\n\u001b[1;32m    700\u001b[0m             typ\u001b[39m=\u001b[39;49mmanager,\n\u001b[1;32m    701\u001b[0m         )\n\u001b[1;32m    703\u001b[0m \u001b[39m# For data is list-like, or Iterable (will consume into list)\u001b[39;00m\n\u001b[1;32m    704\u001b[0m \u001b[39melif\u001b[39;00m is_list_like(data):\n",
      "File \u001b[0;32m/usr/local/lib/python3.10/site-packages/pandas/core/internals/construction.py:331\u001b[0m, in \u001b[0;36mndarray_to_mgr\u001b[0;34m(values, index, columns, dtype, copy, typ)\u001b[0m\n\u001b[1;32m    326\u001b[0m         values \u001b[39m=\u001b[39m values\u001b[39m.\u001b[39mreshape(\u001b[39m-\u001b[39m\u001b[39m1\u001b[39m, \u001b[39m1\u001b[39m)\n\u001b[1;32m    328\u001b[0m \u001b[39melse\u001b[39;00m:\n\u001b[1;32m    329\u001b[0m     \u001b[39m# by definition an array here\u001b[39;00m\n\u001b[1;32m    330\u001b[0m     \u001b[39m# the dtypes will be coerced to a single dtype\u001b[39;00m\n\u001b[0;32m--> 331\u001b[0m     values \u001b[39m=\u001b[39m _prep_ndarray(values, copy\u001b[39m=\u001b[39;49mcopy_on_sanitize)\n\u001b[1;32m    333\u001b[0m \u001b[39mif\u001b[39;00m dtype \u001b[39mis\u001b[39;00m \u001b[39mnot\u001b[39;00m \u001b[39mNone\u001b[39;00m \u001b[39mand\u001b[39;00m \u001b[39mnot\u001b[39;00m is_dtype_equal(values\u001b[39m.\u001b[39mdtype, dtype):\n\u001b[1;32m    334\u001b[0m     shape \u001b[39m=\u001b[39m values\u001b[39m.\u001b[39mshape\n",
      "File \u001b[0;32m/usr/local/lib/python3.10/site-packages/pandas/core/internals/construction.py:591\u001b[0m, in \u001b[0;36m_prep_ndarray\u001b[0;34m(values, copy)\u001b[0m\n\u001b[1;32m    589\u001b[0m     values \u001b[39m=\u001b[39m values\u001b[39m.\u001b[39mreshape((values\u001b[39m.\u001b[39mshape[\u001b[39m0\u001b[39m], \u001b[39m1\u001b[39m))\n\u001b[1;32m    590\u001b[0m \u001b[39melif\u001b[39;00m values\u001b[39m.\u001b[39mndim \u001b[39m!=\u001b[39m \u001b[39m2\u001b[39m:\n\u001b[0;32m--> 591\u001b[0m     \u001b[39mraise\u001b[39;00m \u001b[39mValueError\u001b[39;00m(\u001b[39mf\u001b[39m\u001b[39m\"\u001b[39m\u001b[39mMust pass 2-d input. shape=\u001b[39m\u001b[39m{\u001b[39;00mvalues\u001b[39m.\u001b[39mshape\u001b[39m}\u001b[39;00m\u001b[39m\"\u001b[39m)\n\u001b[1;32m    593\u001b[0m \u001b[39mreturn\u001b[39;00m values\n",
      "\u001b[0;31mValueError\u001b[0m: Must pass 2-d input. shape=(672, 32, 32, 3)"
     ]
    }
   ],
   "source": [
    "import pandas as pd\n"
   ]
  },
  {
   "cell_type": "code",
   "execution_count": 40,
   "id": "minus-theta",
   "metadata": {},
   "outputs": [],
   "source": [
    "# write function\n",
    "def compute_eigen_values(X):\n",
    "    # computing the mean face\n",
    "    mean_subtracted_matrix = X - np.mean(X, axis= 0)\n",
    "    XXt = np.cov(mean_subtracted_matrix, rowvar=True)\n",
    "    eigen_value, eigen_vectors = np.linalg.eigh(XXt)\n",
    "    return eigen_value[::-1], eigen_vectors"
   ]
  },
  {
   "cell_type": "markdown",
   "id": "identified-weight",
   "metadata": {},
   "source": [
    "#### Compute eigen values and plot eigen value spectrum"
   ]
  },
  {
   "cell_type": "code",
   "execution_count": 41,
   "id": "right-turning",
   "metadata": {},
   "outputs": [
    {
     "ename": "ValueError",
     "evalue": "m has more than 2 dimensions",
     "output_type": "error",
     "traceback": [
      "\u001b[0;31m---------------------------------------------------------------------------\u001b[0m",
      "\u001b[0;31mValueError\u001b[0m                                Traceback (most recent call last)",
      "\u001b[1;32m/Users/siddikayyappa/IIITH/3_year/3_1/SMAI/smai_assignment_2/SMAI-Assignment-2/RollNumber_Q2.ipynb Cell 15\u001b[0m in \u001b[0;36m<cell line: 2>\u001b[0;34m()\u001b[0m\n\u001b[1;32m      <a href='vscode-notebook-cell:/Users/siddikayyappa/IIITH/3_year/3_1/SMAI/smai_assignment_2/SMAI-Assignment-2/RollNumber_Q2.ipynb#X16sZmlsZQ%3D%3D?line=0'>1</a>\u001b[0m \u001b[39m# eigen values and spectrum\u001b[39;00m\n\u001b[0;32m----> <a href='vscode-notebook-cell:/Users/siddikayyappa/IIITH/3_year/3_1/SMAI/smai_assignment_2/SMAI-Assignment-2/RollNumber_Q2.ipynb#X16sZmlsZQ%3D%3D?line=1'>2</a>\u001b[0m eigen_values, eigen_vectors \u001b[39m=\u001b[39m compute_eigen_values(X)\n\u001b[1;32m      <a href='vscode-notebook-cell:/Users/siddikayyappa/IIITH/3_year/3_1/SMAI/smai_assignment_2/SMAI-Assignment-2/RollNumber_Q2.ipynb#X16sZmlsZQ%3D%3D?line=2'>3</a>\u001b[0m \u001b[39mimport\u001b[39;00m \u001b[39mmatplotlib\u001b[39;00m\u001b[39m.\u001b[39;00m\u001b[39mpyplot\u001b[39;00m \u001b[39mas\u001b[39;00m \u001b[39mplot\u001b[39;00m\n\u001b[1;32m      <a href='vscode-notebook-cell:/Users/siddikayyappa/IIITH/3_year/3_1/SMAI/smai_assignment_2/SMAI-Assignment-2/RollNumber_Q2.ipynb#X16sZmlsZQ%3D%3D?line=3'>4</a>\u001b[0m plot\u001b[39m.\u001b[39mscatter(\u001b[39mrange\u001b[39m(\u001b[39mlen\u001b[39m(eigen_values)),eigen_values, s\u001b[39m=\u001b[39m\u001b[39m0.2\u001b[39m)\n",
      "\u001b[1;32m/Users/siddikayyappa/IIITH/3_year/3_1/SMAI/smai_assignment_2/SMAI-Assignment-2/RollNumber_Q2.ipynb Cell 15\u001b[0m in \u001b[0;36mcompute_eigen_values\u001b[0;34m(X)\u001b[0m\n\u001b[1;32m      <a href='vscode-notebook-cell:/Users/siddikayyappa/IIITH/3_year/3_1/SMAI/smai_assignment_2/SMAI-Assignment-2/RollNumber_Q2.ipynb#X16sZmlsZQ%3D%3D?line=1'>2</a>\u001b[0m \u001b[39mdef\u001b[39;00m \u001b[39mcompute_eigen_values\u001b[39m(X):\n\u001b[1;32m      <a href='vscode-notebook-cell:/Users/siddikayyappa/IIITH/3_year/3_1/SMAI/smai_assignment_2/SMAI-Assignment-2/RollNumber_Q2.ipynb#X16sZmlsZQ%3D%3D?line=2'>3</a>\u001b[0m     \u001b[39m# computing the mean face\u001b[39;00m\n\u001b[1;32m      <a href='vscode-notebook-cell:/Users/siddikayyappa/IIITH/3_year/3_1/SMAI/smai_assignment_2/SMAI-Assignment-2/RollNumber_Q2.ipynb#X16sZmlsZQ%3D%3D?line=3'>4</a>\u001b[0m     mean_subtracted_matrix \u001b[39m=\u001b[39m X \u001b[39m-\u001b[39m np\u001b[39m.\u001b[39mmean(X, axis\u001b[39m=\u001b[39m \u001b[39m0\u001b[39m)\n\u001b[0;32m----> <a href='vscode-notebook-cell:/Users/siddikayyappa/IIITH/3_year/3_1/SMAI/smai_assignment_2/SMAI-Assignment-2/RollNumber_Q2.ipynb#X16sZmlsZQ%3D%3D?line=4'>5</a>\u001b[0m     XXt \u001b[39m=\u001b[39m np\u001b[39m.\u001b[39;49mcov(mean_subtracted_matrix, rowvar\u001b[39m=\u001b[39;49m\u001b[39mTrue\u001b[39;49;00m)\n\u001b[1;32m      <a href='vscode-notebook-cell:/Users/siddikayyappa/IIITH/3_year/3_1/SMAI/smai_assignment_2/SMAI-Assignment-2/RollNumber_Q2.ipynb#X16sZmlsZQ%3D%3D?line=5'>6</a>\u001b[0m     eigen_value, eigen_vectors \u001b[39m=\u001b[39m np\u001b[39m.\u001b[39mlinalg\u001b[39m.\u001b[39meigh(XXt)\n\u001b[1;32m      <a href='vscode-notebook-cell:/Users/siddikayyappa/IIITH/3_year/3_1/SMAI/smai_assignment_2/SMAI-Assignment-2/RollNumber_Q2.ipynb#X16sZmlsZQ%3D%3D?line=6'>7</a>\u001b[0m     \u001b[39mreturn\u001b[39;00m eigen_value[::\u001b[39m-\u001b[39m\u001b[39m1\u001b[39m], eigen_vectors\n",
      "File \u001b[0;32m<__array_function__ internals>:180\u001b[0m, in \u001b[0;36mcov\u001b[0;34m(*args, **kwargs)\u001b[0m\n",
      "File \u001b[0;32m/usr/local/lib/python3.10/site-packages/numpy/lib/function_base.py:2617\u001b[0m, in \u001b[0;36mcov\u001b[0;34m(m, y, rowvar, bias, ddof, fweights, aweights, dtype)\u001b[0m\n\u001b[1;32m   2615\u001b[0m m \u001b[39m=\u001b[39m np\u001b[39m.\u001b[39masarray(m)\n\u001b[1;32m   2616\u001b[0m \u001b[39mif\u001b[39;00m m\u001b[39m.\u001b[39mndim \u001b[39m>\u001b[39m \u001b[39m2\u001b[39m:\n\u001b[0;32m-> 2617\u001b[0m     \u001b[39mraise\u001b[39;00m \u001b[39mValueError\u001b[39;00m(\u001b[39m\"\u001b[39m\u001b[39mm has more than 2 dimensions\u001b[39m\u001b[39m\"\u001b[39m)\n\u001b[1;32m   2619\u001b[0m \u001b[39mif\u001b[39;00m y \u001b[39mis\u001b[39;00m \u001b[39mnot\u001b[39;00m \u001b[39mNone\u001b[39;00m:\n\u001b[1;32m   2620\u001b[0m     y \u001b[39m=\u001b[39m np\u001b[39m.\u001b[39masarray(y)\n",
      "\u001b[0;31mValueError\u001b[0m: m has more than 2 dimensions"
     ]
    }
   ],
   "source": [
    "# eigen values and spectrum\n",
    "eigen_values, eigen_vectors = compute_eigen_values(X)\n",
    "import matplotlib.pyplot as plot\n",
    "plot.scatter(range(len(eigen_values)),eigen_values, s=0.2)\n",
    "plot.show()"
   ]
  },
  {
   "cell_type": "markdown",
   "id": "silent-fitness",
   "metadata": {},
   "source": [
    "#### Plot the percentage of variances vs the number of principal components"
   ]
  },
  {
   "cell_type": "code",
   "execution_count": null,
   "id": "given-violence",
   "metadata": {},
   "outputs": [
    {
     "data": {
      "image/png": "[encoded data removed]",
      "text/plain": [
       "<Figure size 640x480 with 1 Axes>"
      ]
     },
     "metadata": {},
     "output_type": "display_data"
    }
   ],
   "source": [
    "# plot variance vs components\n",
    "eigen_ratio = (eigen_values/sum(eigen_values))*100\n",
    "percentage = np.cumsum(eigen_ratio)\n",
    "plot.step(percentage, range(1, len(percentage)+1))\n",
    "plot.title(\"Percentage of Variances Vs Number of Principal Components\")\n",
    "plot.xlabel(\"Percentage of Variance\")\n",
    "plot.ylabel(\"Principle Components\")\n",
    "plot.show()"
   ]
  },
  {
   "cell_type": "markdown",
   "id": "handy-affiliation",
   "metadata": {},
   "source": [
    "#### Visualize eigen faces(eigen vectors)"
   ]
  },
  {
   "cell_type": "code",
   "execution_count": null,
   "id": "wicked-malta",
   "metadata": {},
   "outputs": [
    {
     "ename": "NameError",
     "evalue": "name 'randrange' is not defined",
     "output_type": "error",
     "traceback": [
      "\u001b[0;31m---------------------------------------------------------------------------\u001b[0m",
      "\u001b[0;31mNameError\u001b[0m                                 Traceback (most recent call last)",
      "\u001b[1;32m/Users/siddikayyappa/IIITH/3_year/3_1/SMAI/smai_assignment_2/SMAI-Assignment-2/RollNumber_Q2.ipynb Cell 18\u001b[0m in \u001b[0;36m<cell line: 15>\u001b[0;34m()\u001b[0m\n\u001b[1;32m     <a href='vscode-notebook-cell:/Users/siddikayyappa/IIITH/3_year/3_1/SMAI/smai_assignment_2/SMAI-Assignment-2/RollNumber_Q2.ipynb#X23sZmlsZQ%3D%3D?line=11'>12</a>\u001b[0m         plt\u001b[39m.\u001b[39mimshow(ele,cmap\u001b[39m=\u001b[39mplt\u001b[39m.\u001b[39mcm\u001b[39m.\u001b[39mgray)\n\u001b[1;32m     <a href='vscode-notebook-cell:/Users/siddikayyappa/IIITH/3_year/3_1/SMAI/smai_assignment_2/SMAI-Assignment-2/RollNumber_Q2.ipynb#X23sZmlsZQ%3D%3D?line=12'>13</a>\u001b[0m     plt\u001b[39m.\u001b[39mshow()\n\u001b[0;32m---> <a href='vscode-notebook-cell:/Users/siddikayyappa/IIITH/3_year/3_1/SMAI/smai_assignment_2/SMAI-Assignment-2/RollNumber_Q2.ipynb#X23sZmlsZQ%3D%3D?line=14'>15</a>\u001b[0m indices \u001b[39m=\u001b[39m [randrange(\u001b[39m12\u001b[39m)\u001b[39m+\u001b[39m\u001b[39m1\u001b[39m \u001b[39mfor\u001b[39;00m i \u001b[39min\u001b[39;00m \u001b[39mrange\u001b[39m(\u001b[39m5\u001b[39m)]\n\u001b[1;32m     <a href='vscode-notebook-cell:/Users/siddikayyappa/IIITH/3_year/3_1/SMAI/smai_assignment_2/SMAI-Assignment-2/RollNumber_Q2.ipynb#X23sZmlsZQ%3D%3D?line=15'>16</a>\u001b[0m plot(eigen_vectors,H,W,C, indices)\n",
      "\u001b[1;32m/Users/siddikayyappa/IIITH/3_year/3_1/SMAI/smai_assignment_2/SMAI-Assignment-2/RollNumber_Q2.ipynb Cell 18\u001b[0m in \u001b[0;36m<listcomp>\u001b[0;34m(.0)\u001b[0m\n\u001b[1;32m     <a href='vscode-notebook-cell:/Users/siddikayyappa/IIITH/3_year/3_1/SMAI/smai_assignment_2/SMAI-Assignment-2/RollNumber_Q2.ipynb#X23sZmlsZQ%3D%3D?line=11'>12</a>\u001b[0m         plt\u001b[39m.\u001b[39mimshow(ele,cmap\u001b[39m=\u001b[39mplt\u001b[39m.\u001b[39mcm\u001b[39m.\u001b[39mgray)\n\u001b[1;32m     <a href='vscode-notebook-cell:/Users/siddikayyappa/IIITH/3_year/3_1/SMAI/smai_assignment_2/SMAI-Assignment-2/RollNumber_Q2.ipynb#X23sZmlsZQ%3D%3D?line=12'>13</a>\u001b[0m     plt\u001b[39m.\u001b[39mshow()\n\u001b[0;32m---> <a href='vscode-notebook-cell:/Users/siddikayyappa/IIITH/3_year/3_1/SMAI/smai_assignment_2/SMAI-Assignment-2/RollNumber_Q2.ipynb#X23sZmlsZQ%3D%3D?line=14'>15</a>\u001b[0m indices \u001b[39m=\u001b[39m [randrange(\u001b[39m12\u001b[39m)\u001b[39m+\u001b[39m\u001b[39m1\u001b[39m \u001b[39mfor\u001b[39;00m i \u001b[39min\u001b[39;00m \u001b[39mrange\u001b[39m(\u001b[39m5\u001b[39m)]\n\u001b[1;32m     <a href='vscode-notebook-cell:/Users/siddikayyappa/IIITH/3_year/3_1/SMAI/smai_assignment_2/SMAI-Assignment-2/RollNumber_Q2.ipynb#X23sZmlsZQ%3D%3D?line=15'>16</a>\u001b[0m plot(eigen_vectors,H,W,C, indices)\n",
      "\u001b[0;31mNameError\u001b[0m: name 'randrange' is not defined"
     ]
    }
   ],
   "source": [
    "\n",
    "def plot(image,H,W,C,indices):\n",
    "    pl = np.reshape(image,(-1,H,W,C))\n",
    "    plt.figure(figsize=(25,25))\n",
    "    for c,i in enumerate(indices):\n",
    "        ele = pl[i]\n",
    "        minim = np.min(ele)\n",
    "        maxim = np.max(ele)\n",
    "        ele = (ele - minim) / (maxim - minim)\n",
    "        ele = np.clip(ele,0,254)\n",
    "        plt.subplot(1,12,c+1)\n",
    "        plt.axis('off')\n",
    "        plt.imshow(ele,cmap=plt.cm.gray)\n",
    "    plt.show()\n",
    "\n",
    "indices = [randrange(12)+1 for i in range(5)]\n",
    "plot(eigen_vectors,H,W,C, indices)"
   ]
  },
  {
   "cell_type": "markdown",
   "id": "current-classification",
   "metadata": {},
   "source": [
    "#### Reconstruction "
   ]
  },
  {
   "cell_type": "code",
   "execution_count": null,
   "id": "sacred-luxembourg",
   "metadata": {},
   "outputs": [],
   "source": [
    "# reconstruction"
   ]
  },
  {
   "cell_type": "markdown",
   "id": "fluid-venice",
   "metadata": {},
   "source": [
    "#### Plot data in 2D"
   ]
  },
  {
   "cell_type": "code",
   "execution_count": null,
   "id": "exempt-terrace",
   "metadata": {},
   "outputs": [],
   "source": [
    "# plot data in 2D"
   ]
  },
  {
   "cell_type": "markdown",
   "id": "animal-double",
   "metadata": {},
   "source": [
    "## Lets analyze the principal components classwise\n",
    "- Visualize dominant eigen faces of each of the classes.\n",
    "- Print the number of principal components required to retain 90% variance for each of the classes and for the entire dataset\n",
    "- Are the number of components same for entire dataset and each of the classes. If yes why? If not why?\n",
    "\n",
    "Example output:\n",
    "```\n",
    "Number of principal components required for 90% reconstruction of the:\n",
    "Entire Dataset = 10 \n",
    "Amitabhbachan = 10\n",
    "AamirKhan = 10\n",
    "...\n",
    "```"
   ]
  },
  {
   "cell_type": "code",
   "execution_count": null,
   "id": "composed-administration",
   "metadata": {},
   "outputs": [
    {
     "name": "stdout",
     "output_type": "stream",
     "text": [
      "Dataset shape: (672, 32, 32, 3)\n",
      "Label shape: (672,)\n"
     ]
    }
   ],
   "source": [
    "# Load data again\n",
    "X,y = load_data(dirpath)"
   ]
  },
  {
   "cell_type": "markdown",
   "id": "exact-pathology",
   "metadata": {},
   "source": [
    "#### Visualize dominant eigen faces of each of the classes"
   ]
  },
  {
   "cell_type": "code",
   "execution_count": null,
   "id": "damaged-glucose",
   "metadata": {},
   "outputs": [],
   "source": [
    "# visualize"
   ]
  },
  {
   "cell_type": "markdown",
   "id": "received-branch",
   "metadata": {},
   "source": [
    "#### Number of principal components required to retain 90% variance for each of the classes and for the entire dataset"
   ]
  },
  {
   "cell_type": "code",
   "execution_count": null,
   "id": "transparent-passion",
   "metadata": {},
   "outputs": [],
   "source": [
    "# components required"
   ]
  },
  {
   "cell_type": "markdown",
   "id": "offshore-allocation",
   "metadata": {},
   "source": [
    "#### Analysis : Are the number of components same for entire dataset and each of the classes. If yes why? If not why?"
   ]
  },
  {
   "cell_type": "code",
   "execution_count": null,
   "id": "matched-defeat",
   "metadata": {},
   "outputs": [],
   "source": [
    "# observation/analysis"
   ]
  },
  {
   "cell_type": "markdown",
   "id": "minimal-clock",
   "metadata": {},
   "source": [
    "## Linear Regression (continued)\n",
    "1. Perform linear regression on below datapoints\n",
    "2. Use PCA for dimensionality reduction on this datapoints and then perform Linear regression.\n",
    "3. Perform this experiment on different number of components and report the score for linear regression. Plot the graph of [1-200] principal components vs regression score. What do you observe?\n",
    "\n",
    "Note :- Can use inbuilt functions for Linear Regression and PCA for this question"
   ]
  },
  {
   "cell_type": "code",
   "execution_count": null,
   "id": "expanded-forwarding",
   "metadata": {},
   "outputs": [
    {
     "name": "stdout",
     "output_type": "stream",
     "text": [
      "Dataset shape: (672, 32, 32, 3)\n",
      "Label shape: (672,)\n",
      "(672,)\n"
     ]
    }
   ],
   "source": [
    "# datapoints\n",
    "X,_ = load_data(dirpath)\n",
    "X = X.reshape((X.shape[0],-1))\n",
    "label = np.array([randrange((32*32*3)) for i in range(5)])\n",
    "label = np.mean(X[:,label], axis = 1)\n",
    "print(label.shape)"
   ]
  },
  {
   "cell_type": "code",
   "execution_count": null,
   "id": "guided-bones",
   "metadata": {},
   "outputs": [],
   "source": [
    "# code here"
   ]
  },
  {
   "cell_type": "code",
   "execution_count": null,
   "id": "tracked-hundred",
   "metadata": {},
   "outputs": [],
   "source": [
    "# analysis / plot (split the cells if required)"
   ]
  }
 ],
 "metadata": {
  "kernelspec": {
   "display_name": "Python 3.10.6 64-bit",
   "language": "python",
   "name": "python3"
  },
  "language_info": {
   "codemirror_mode": {
    "name": "ipython",
    "version": 3
   },
   "file_extension": ".py",
   "mimetype": "text/x-python",
   "name": "python",
   "nbconvert_exporter": "python",
   "pygments_lexer": "ipython3",
   "version": "3.10.6"
  },
  "vscode": {
   "interpreter": {
    "hash": "aee8b7b246df8f9039afb4144a1f6fd8d2ca17a180786b69acc140d282b71a49"
   }
  }
 },
 "nbformat": 4,
 "nbformat_minor": 5
}
