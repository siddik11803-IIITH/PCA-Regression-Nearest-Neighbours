{
 "cells": [
  {
   "cell_type": "markdown",
   "id": "186be3d3",
   "metadata": {},
   "source": [
    "# Assignment 2 - Question 1\n",
    "The objective of this assignment is to get you familiarize with  the  problem  of  `KNN Classifiers`.\n",
    "\n",
    "\n",
    "## Instructions\n",
    "- Do not Use Direct Inbuilt functions for the Task.\n",
    "- Numpy or other math libraries are allowed \n",
    "- Ensure that this notebook runs without errors when the cells are run in sequence.\n",
    "- Do not change the contents of the Given cells. Use new cells to Write your code.\n",
    "\n",
    "\n",
    "## Submission\n",
    "- Ensure that this notebook runs without errors when the cells are run in sequence.\n",
    "- Rename the notebook to `<roll_number>_Q1.ipynb`\n",
    "- Fill the Name and Roll number in the below markdown"
   ]
  },
  {
   "cell_type": "markdown",
   "id": "6f6269f1",
   "metadata": {},
   "source": [
    "Name: Siddik Ayyappa Naraharisetti<br>\n",
    "Roll Number: 2020101089 <br>"
   ]
  },
  {
   "cell_type": "markdown",
   "id": "edeabff5",
   "metadata": {},
   "source": [
    "### Dataset\n",
    "\n",
    "Use the code below to load the Dataset"
   ]
  },
  {
   "cell_type": "code",
   "execution_count": 1,
   "id": "69cac090",
   "metadata": {},
   "outputs": [],
   "source": [
    "import numpy as np\n",
    "import pandas as pd\n",
    "from sklearn.model_selection import train_test_split"
   ]
  },
  {
   "cell_type": "code",
   "execution_count": 2,
   "id": "e0fa6912",
   "metadata": {},
   "outputs": [],
   "source": [
    "#Load data\n",
    "iris = pd.read_csv('Iris.csv')\n",
    "#data cleaning\n",
    "iris.drop(columns=\"Id\",inplace=True)"
   ]
  },
  {
   "cell_type": "code",
   "execution_count": 3,
   "id": "1ca8135b",
   "metadata": {},
   "outputs": [],
   "source": [
    "#features and labels\n",
    "X=iris.iloc[:,0:4].values\n",
    "y=iris.iloc[:,4].values\n",
    "\n",
    "#Train and Test split\n",
    "X_train,X_test,y_train,y_test=train_test_split(X,y,test_size=0.2,random_state=0)"
   ]
  },
  {
   "cell_type": "markdown",
   "id": "d14014cb",
   "metadata": {},
   "source": [
    "Write your Code below for KNN Classifier.<br>\n",
    "Use different values of K and test the accuracies."
   ]
  },
  {
   "cell_type": "markdown",
   "id": "13e8c2c2",
   "metadata": {},
   "source": [
    "### Beginning the code\n",
    "We shall visualise the dataset with the help of pandas dataframes, to get a feel of how the data is."
   ]
  },
  {
   "cell_type": "code",
   "execution_count": 4,
   "id": "6ca8c19d",
   "metadata": {},
   "outputs": [
    {
     "data": {
      "text/html": [
       "<div>\n",
       "<style scoped>\n",
       "    .dataframe tbody tr th:only-of-type {\n",
       "        vertical-align: middle;\n",
       "    }\n",
       "\n",
       "    .dataframe tbody tr th {\n",
       "        vertical-align: top;\n",
       "    }\n",
       "\n",
       "    .dataframe thead th {\n",
       "        text-align: right;\n",
       "    }\n",
       "</style>\n",
       "<table border=\"1\" class=\"dataframe\">\n",
       "  <thead>\n",
       "    <tr style=\"text-align: right;\">\n",
       "      <th></th>\n",
       "      <th>0</th>\n",
       "      <th>1</th>\n",
       "      <th>2</th>\n",
       "      <th>3</th>\n",
       "    </tr>\n",
       "  </thead>\n",
       "  <tbody>\n",
       "    <tr>\n",
       "      <th>0</th>\n",
       "      <td>6.4</td>\n",
       "      <td>3.1</td>\n",
       "      <td>5.5</td>\n",
       "      <td>1.8</td>\n",
       "    </tr>\n",
       "    <tr>\n",
       "      <th>1</th>\n",
       "      <td>5.4</td>\n",
       "      <td>3.0</td>\n",
       "      <td>4.5</td>\n",
       "      <td>1.5</td>\n",
       "    </tr>\n",
       "    <tr>\n",
       "      <th>2</th>\n",
       "      <td>5.2</td>\n",
       "      <td>3.5</td>\n",
       "      <td>1.5</td>\n",
       "      <td>0.2</td>\n",
       "    </tr>\n",
       "    <tr>\n",
       "      <th>3</th>\n",
       "      <td>6.1</td>\n",
       "      <td>3.0</td>\n",
       "      <td>4.9</td>\n",
       "      <td>1.8</td>\n",
       "    </tr>\n",
       "    <tr>\n",
       "      <th>4</th>\n",
       "      <td>6.4</td>\n",
       "      <td>2.8</td>\n",
       "      <td>5.6</td>\n",
       "      <td>2.2</td>\n",
       "    </tr>\n",
       "    <tr>\n",
       "      <th>...</th>\n",
       "      <td>...</td>\n",
       "      <td>...</td>\n",
       "      <td>...</td>\n",
       "      <td>...</td>\n",
       "    </tr>\n",
       "    <tr>\n",
       "      <th>115</th>\n",
       "      <td>4.9</td>\n",
       "      <td>3.1</td>\n",
       "      <td>1.5</td>\n",
       "      <td>0.1</td>\n",
       "    </tr>\n",
       "    <tr>\n",
       "      <th>116</th>\n",
       "      <td>6.3</td>\n",
       "      <td>2.9</td>\n",
       "      <td>5.6</td>\n",
       "      <td>1.8</td>\n",
       "    </tr>\n",
       "    <tr>\n",
       "      <th>117</th>\n",
       "      <td>5.8</td>\n",
       "      <td>2.7</td>\n",
       "      <td>4.1</td>\n",
       "      <td>1.0</td>\n",
       "    </tr>\n",
       "    <tr>\n",
       "      <th>118</th>\n",
       "      <td>7.7</td>\n",
       "      <td>3.8</td>\n",
       "      <td>6.7</td>\n",
       "      <td>2.2</td>\n",
       "    </tr>\n",
       "    <tr>\n",
       "      <th>119</th>\n",
       "      <td>4.6</td>\n",
       "      <td>3.2</td>\n",
       "      <td>1.4</td>\n",
       "      <td>0.2</td>\n",
       "    </tr>\n",
       "  </tbody>\n",
       "</table>\n",
       "<p>120 rows × 4 columns</p>\n",
       "</div>"
      ],
      "text/plain": [
       "       0    1    2    3\n",
       "0    6.4  3.1  5.5  1.8\n",
       "1    5.4  3.0  4.5  1.5\n",
       "2    5.2  3.5  1.5  0.2\n",
       "3    6.1  3.0  4.9  1.8\n",
       "4    6.4  2.8  5.6  2.2\n",
       "..   ...  ...  ...  ...\n",
       "115  4.9  3.1  1.5  0.1\n",
       "116  6.3  2.9  5.6  1.8\n",
       "117  5.8  2.7  4.1  1.0\n",
       "118  7.7  3.8  6.7  2.2\n",
       "119  4.6  3.2  1.4  0.2\n",
       "\n",
       "[120 rows x 4 columns]"
      ]
     },
     "execution_count": 4,
     "metadata": {},
     "output_type": "execute_result"
    }
   ],
   "source": [
    "pd.DataFrame(X_train)"
   ]
  },
  {
   "cell_type": "code",
   "execution_count": 5,
   "id": "bf4d7328",
   "metadata": {},
   "outputs": [
    {
     "data": {
      "text/html": [
       "<div>\n",
       "<style scoped>\n",
       "    .dataframe tbody tr th:only-of-type {\n",
       "        vertical-align: middle;\n",
       "    }\n",
       "\n",
       "    .dataframe tbody tr th {\n",
       "        vertical-align: top;\n",
       "    }\n",
       "\n",
       "    .dataframe thead th {\n",
       "        text-align: right;\n",
       "    }\n",
       "</style>\n",
       "<table border=\"1\" class=\"dataframe\">\n",
       "  <thead>\n",
       "    <tr style=\"text-align: right;\">\n",
       "      <th></th>\n",
       "      <th>0</th>\n",
       "    </tr>\n",
       "  </thead>\n",
       "  <tbody>\n",
       "    <tr>\n",
       "      <th>0</th>\n",
       "      <td>Iris-virginica</td>\n",
       "    </tr>\n",
       "    <tr>\n",
       "      <th>1</th>\n",
       "      <td>Iris-versicolor</td>\n",
       "    </tr>\n",
       "    <tr>\n",
       "      <th>2</th>\n",
       "      <td>Iris-setosa</td>\n",
       "    </tr>\n",
       "    <tr>\n",
       "      <th>3</th>\n",
       "      <td>Iris-virginica</td>\n",
       "    </tr>\n",
       "    <tr>\n",
       "      <th>4</th>\n",
       "      <td>Iris-virginica</td>\n",
       "    </tr>\n",
       "    <tr>\n",
       "      <th>...</th>\n",
       "      <td>...</td>\n",
       "    </tr>\n",
       "    <tr>\n",
       "      <th>115</th>\n",
       "      <td>Iris-setosa</td>\n",
       "    </tr>\n",
       "    <tr>\n",
       "      <th>116</th>\n",
       "      <td>Iris-virginica</td>\n",
       "    </tr>\n",
       "    <tr>\n",
       "      <th>117</th>\n",
       "      <td>Iris-versicolor</td>\n",
       "    </tr>\n",
       "    <tr>\n",
       "      <th>118</th>\n",
       "      <td>Iris-virginica</td>\n",
       "    </tr>\n",
       "    <tr>\n",
       "      <th>119</th>\n",
       "      <td>Iris-setosa</td>\n",
       "    </tr>\n",
       "  </tbody>\n",
       "</table>\n",
       "<p>120 rows × 1 columns</p>\n",
       "</div>"
      ],
      "text/plain": [
       "                   0\n",
       "0     Iris-virginica\n",
       "1    Iris-versicolor\n",
       "2        Iris-setosa\n",
       "3     Iris-virginica\n",
       "4     Iris-virginica\n",
       "..               ...\n",
       "115      Iris-setosa\n",
       "116   Iris-virginica\n",
       "117  Iris-versicolor\n",
       "118   Iris-virginica\n",
       "119      Iris-setosa\n",
       "\n",
       "[120 rows x 1 columns]"
      ]
     },
     "execution_count": 5,
     "metadata": {},
     "output_type": "execute_result"
    }
   ],
   "source": [
    "pd.DataFrame(y_train)\n"
   ]
  },
  {
   "cell_type": "code",
   "execution_count": 6,
   "id": "91145651",
   "metadata": {},
   "outputs": [],
   "source": [
    "import statistics as stat\n",
    "\n",
    "class KNN():\n",
    "    def __init__(self, x_train, y_train, k):\n",
    "        self.X = x_train\n",
    "        self.y, self.y_key_forward, self.y_key_back = self.to_categorical(y_train)\n",
    "        self.y_train = y_train\n",
    "        self.k = k\n",
    "    def to_categorical(self, y):\n",
    "        y = np.array(y)\n",
    "        cat = np.unique(y)\n",
    "        n_cat = len(cat)\n",
    "        temp = dict()\n",
    "        temp_1 = dict()\n",
    "        for i in range(n_cat):\n",
    "            temp[cat[i]] = i\n",
    "            temp_1[i] = cat[i]\n",
    "        del cat\n",
    "        cat_labels = [temp[i] for i in y]\n",
    "        return cat_labels, temp,temp_1\n",
    "    def neighbours(self, sample):\n",
    "        min_distance, dist = np.inf, []\n",
    "        for idx, i in enumerate(self.X): # -> Time complexity - nd\n",
    "            dist += [(np.sum((sample - i)**2), idx)] \n",
    "        dist.sort(key=lambda pair:pair[0]) # sorting with the distance. Time complexity - n.log n\n",
    "        dist = np.array(np.array(dist))[:self.k]\n",
    "        labels = [self.y[int(i[1])] for i in dist]   # getting the labels of the nearest k points\n",
    "        return labels\n",
    "    def forward(self, X):\n",
    "        neighbours = []\n",
    "        for i in X:\n",
    "            neighbours += [self.neighbours(i)] # -> This would be repeating n times. time complexity for each time - nd + n.log(n)\n",
    "            # Hence the total time complexity - O(n(nd + n.log(n)))\n",
    "        labels = []\n",
    "        for neighbour in neighbours:\n",
    "            labels += [stat.mode(neighbour)] # this is the only line in which a third party library has been utilised, just for the mode of the array.\n",
    "            # The above line is run for n times, each, looking for the mode in an array of size k -\n",
    "            #  time complexity - O(nk)\n",
    "        labels = np.array(labels)\n",
    "        return labels\n",
    "    def evaluate(self, X, y):\n",
    "        labels = self.forward(X) # total time complexity - O(n(nd + n.log(n) + k))\n",
    "        if(len(labels) != len(y)):\n",
    "            raise ValueError(\"Check Labels\")\n",
    "        y_labels = [self.y_key_forward[i] for i in y]\n",
    "        score = 0\n",
    "        array = [\"=\",\"=\",\"=\",\"=\",\"=\",\"=\",\"=\",\"=\",\"=\",\">\"]\n",
    "        for i in range(len(y_labels)):\n",
    "            if(y_labels[i] == labels[i]):\n",
    "                score += 1\n",
    "        return(score/len(y)*100)"
   ]
  },
  {
   "cell_type": "markdown",
   "id": "db5fe580",
   "metadata": {},
   "source": [
    "###  Math behind the code\n",
    "\n",
    "All the points in the initial set $X_{init}$ are firstly taken in the class. Then for each point $X_i$ in the test for which we calculate the label, we calculate the distance,\n",
    "<br> \n",
    "$(X_i - X_j)^2$  $\\forall X_j \\in X_{init}$ \n",
    "<br> \n",
    "<br> \n",
    "Which will ne stored in an array. Then we sort the array, take the first k points (neighbours), then we assign the major label in the k neighbours. "
   ]
  },
  {
   "cell_type": "code",
   "execution_count": 7,
   "id": "92d82346",
   "metadata": {},
   "outputs": [],
   "source": [
    "accuracies = []\n",
    "for k in range(1, 110):\n",
    "    knn = KNN(X_train, y_train, k = k) # initialising the dataset, \n",
    "    accuracies += [knn.evaluate(X_test, y_test)]"
   ]
  },
  {
   "cell_type": "code",
   "execution_count": 76,
   "id": "2217ca2e",
   "metadata": {},
   "outputs": [
    {
     "data": {
      "image/png": "[encoded data removed]",
      "text/plain": [
       "<Figure size 768x576 with 1 Axes>"
      ]
     },
     "metadata": {},
     "output_type": "display_data"
    }
   ],
   "source": [
    "import matplotlib.pyplot as plot\n",
    "plot.figure(dpi=120)\n",
    "plot.plot(range(1, len(accuracies)+1), accuracies)\n",
    "# plot.xticks(range(0, len(accuracies), 8))\n",
    "# plot.yticks(range(0, len(accuracies), 8))\n",
    "plot.xlabel(\"K\")\n",
    "plot.ylabel(\"Accuracy\")\n",
    "plot.show()"
   ]
  },
  {
   "cell_type": "markdown",
   "id": "1c3ac0ca",
   "metadata": {},
   "source": [
    "### Questions\n",
    "\n",
    "1) What are the Advantages and Disadvantages of KNN algorithm?\n",
    "   <br>\n",
    "   | Advantages | Disadvantages |\n",
    "   | --- | --- |\n",
    "   | The time complexity of training is <br>practically 0 | The time complexity of testing suggests that<br> for large dataset (or data with high number of <br>features) it is not feasible to use KNN|\n",
    "   | Easy to add new data | Noisy data influences the final labels |\n",
    "   | Easy to implement | The data must be normalized among all the features <br>individually (Data of similar nature could be recorded in <br>different units) else the accuracies are affected.| \n",
    "   \n",
    "   <br>\n",
    "2) What is the complexity of the KNN algorithm during Training and Testing?<br><br> \n",
    "   1) The answers are given assuming the values of k, n, d, being the number of neigbours, number of training samples and the number of features respectively.\n",
    "   2) The <b>training</b> phase, doesn't have much of computation to do (We are just storing the training data), hence \n",
    "      1) The time complexity - ```O(1)```\n",
    "      2) The space complexity - ```O(nd)```\n",
    "   3) The <b>testing</b> phase\n",
    "      1) The time complexity - ```O(n(nd + n.log(n) + k))```\n",
    "      2) The space complexity - ```O(nk)```\n",
    "<br><br>\n",
    "3) Is euclidian distance the only distance metric used in KNN?\n",
    "   <br><br>\n",
    "   No. Depending upon the space which the points are in and the problem being solved, we can use different metrics, like Minkowski, Chi-Squared, Cosine. [source](https://www.ncbi.nlm.nih.gov/pmc/articles/PMC4978658/)\n",
    "   <br><br>\n",
    "4) what K value gave the best accuracy?<br><br>\n",
    "   The values like 1, 5, 6, 11, .. 29, have been giving an accuracy of $100\\%$\n"
   ]
  },
  {
   "cell_type": "markdown",
   "id": "47958869",
   "metadata": {},
   "source": [
    "### Testing and Verification"
   ]
  },
  {
   "cell_type": "code",
   "execution_count": 74,
   "id": "ccfbab0e",
   "metadata": {},
   "outputs": [],
   "source": [
    "from sklearn.neighbors import KNeighborsClassifier\n",
    "from sklearn.metrics import accuracy_score\n",
    "acc = []\n",
    "for i in range(1, 110):\n",
    "    model = KNeighborsClassifier(n_neighbors=i)\n",
    "    model.fit(X_train, y_train)\n",
    "    temp = model.predict(X_test)\n",
    "    acc += [(accuracy_score(temp, y_test))*100]"
   ]
  },
  {
   "cell_type": "code",
   "execution_count": 78,
   "id": "d7e0f07c",
   "metadata": {},
   "outputs": [
    {
     "data": {
      "image/png": "[encoded data removed]",
      "text/plain": [
       "<Figure size 640x480 with 1 Axes>"
      ]
     },
     "metadata": {},
     "output_type": "display_data"
    }
   ],
   "source": [
    "plot.plot(range(1, len(acc)+1), acc)\n",
    "plot.show()"
   ]
  },
  {
   "cell_type": "markdown",
   "id": "e4cf9e43",
   "metadata": {},
   "source": [
    "The above plot, which has been taken from the actual classification, shows resemlence with the plot featuring in the above portions of the notebook, implying that the classification is indeed accurate. "
   ]
  }
 ],
 "metadata": {
  "kernelspec": {
   "display_name": "Python 3.10.6 64-bit",
   "language": "python",
   "name": "python3"
  },
  "language_info": {
   "codemirror_mode": {
    "name": "ipython",
    "version": 3
   },
   "file_extension": ".py",
   "mimetype": "text/x-python",
   "name": "python",
   "nbconvert_exporter": "python",
   "pygments_lexer": "ipython3",
   "version": "3.10.6"
  },
  "vscode": {
   "interpreter": {
    "hash": "aee8b7b246df8f9039afb4144a1f6fd8d2ca17a180786b69acc140d282b71a49"
   }
  }
 },
 "nbformat": 4,
 "nbformat_minor": 5
}
