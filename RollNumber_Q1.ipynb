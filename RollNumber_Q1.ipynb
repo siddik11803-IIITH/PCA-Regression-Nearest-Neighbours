{
 "cells": [
  {
   "cell_type": "markdown",
   "id": "186be3d3",
   "metadata": {},
   "source": [
    "# Assignment 2 - Question 1\n",
    "The objective of this assignment is to get you familiarize with  the  problem  of  `KNN Classifiers`.\n",
    "\n",
    "\n",
    "## Instructions\n",
    "- Do not Use Direct Inbuilt functions for the Task.\n",
    "- Numpy or other math libraries are allowed \n",
    "- Ensure that this notebook runs without errors when the cells are run in sequence.\n",
    "- Do not change the contents of the Given cells. Use new cells to Write your code.\n",
    "\n",
    "\n",
    "## Submission\n",
    "- Ensure that this notebook runs without errors when the cells are run in sequence.\n",
    "- Rename the notebook to `<roll_number>_Q1.ipynb`\n",
    "- Fill the Name and Roll number in the below markdown"
   ]
  },
  {
   "cell_type": "markdown",
   "id": "6f6269f1",
   "metadata": {},
   "source": [
    "Name: <br>\n",
    "Roll Number:"
   ]
  },
  {
   "cell_type": "markdown",
   "id": "edeabff5",
   "metadata": {},
   "source": [
    "### Dataset\n",
    "\n",
    "Use the code below to load the Dataset"
   ]
  },
  {
   "cell_type": "code",
   "execution_count": 1,
   "id": "69cac090",
   "metadata": {},
   "outputs": [],
   "source": [
    "import numpy as np\n",
    "import pandas as pd\n",
    "from sklearn.model_selection import train_test_split"
   ]
  },
  {
   "cell_type": "code",
   "execution_count": 2,
   "id": "e0fa6912",
   "metadata": {},
   "outputs": [],
   "source": [
    "#Load data\n",
    "iris = pd.read_csv('Iris.csv')\n",
    "#data cleaning\n",
    "iris.drop(columns=\"Id\",inplace=True)"
   ]
  },
  {
   "cell_type": "code",
   "execution_count": 3,
   "id": "1ca8135b",
   "metadata": {},
   "outputs": [],
   "source": [
    "#features and labels\n",
    "X=iris.iloc[:,0:4].values\n",
    "y=iris.iloc[:,4].values\n",
    "\n",
    "#Train and Test split\n",
    "X_train,X_test,y_train,y_test=train_test_split(X,y,test_size=0.2,random_state=0)"
   ]
  },
  {
   "cell_type": "markdown",
   "id": "d14014cb",
   "metadata": {},
   "source": [
    "Write your Code below for KNN Classifier.<br>\n",
    "Use different values of K and test the accuracies."
   ]
  },
  {
   "cell_type": "code",
   "execution_count": null,
   "id": "6ca8c19d",
   "metadata": {},
   "outputs": [],
   "source": []
  },
  {
   "cell_type": "markdown",
   "id": "1c3ac0ca",
   "metadata": {},
   "source": [
    "### Questions\n",
    "\n",
    "1) What are the Advantages and Disadvantages of KNN algorithm?<br>\n",
    "2) What is the complexity of the KNN algorithm during Training and Testing?<br> \n",
    "3) Is euclidian distance the only distance metric used in KNN? \n",
    "4) what K value gave the best accuracy?"
   ]
  },
  {
   "cell_type": "markdown",
   "id": "47958869",
   "metadata": {},
   "source": []
  }
 ],
 "metadata": {
  "kernelspec": {
   "display_name": "Python [conda env:py36] *",
   "language": "python",
   "name": "conda-env-py36-py"
  },
  "language_info": {
   "codemirror_mode": {
    "name": "ipython",
    "version": 3
   },
   "file_extension": ".py",
   "mimetype": "text/x-python",
   "name": "python",
   "nbconvert_exporter": "python",
   "pygments_lexer": "ipython3",
   "version": "3.6.13"
  }
 },
 "nbformat": 4,
 "nbformat_minor": 5
}
